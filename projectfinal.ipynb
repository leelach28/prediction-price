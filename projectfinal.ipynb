{
 "cells": [
  {
   "cell_type": "code",
   "execution_count": 4,
   "id": "4ea1824e",
   "metadata": {},
   "outputs": [],
   "source": [
    "import pandas as pd\n",
    "import numpy as np\n",
    "import seaborn as sns\n",
    "import matplotlib.pyplot as plt"
   ]
  },
  {
   "cell_type": "code",
   "execution_count": 5,
   "id": "47b43dfd",
   "metadata": {},
   "outputs": [],
   "source": [
    "df=pd.read_csv(\"C:/Users/Pavan_Scottline/Downloads/HouseSales (2).csv\")"
   ]
  },
  {
   "cell_type": "code",
   "execution_count": 6,
   "id": "811f8cab",
   "metadata": {
    "scrolled": false
   },
   "outputs": [
    {
     "data": {
      "text/html": [
       "<div>\n",
       "<style scoped>\n",
       "    .dataframe tbody tr th:only-of-type {\n",
       "        vertical-align: middle;\n",
       "    }\n",
       "\n",
       "    .dataframe tbody tr th {\n",
       "        vertical-align: top;\n",
       "    }\n",
       "\n",
       "    .dataframe thead th {\n",
       "        text-align: right;\n",
       "    }\n",
       "</style>\n",
       "<table border=\"1\" class=\"dataframe\">\n",
       "  <thead>\n",
       "    <tr style=\"text-align: right;\">\n",
       "      <th></th>\n",
       "      <th>TYPE</th>\n",
       "      <th>BEDROOMS</th>\n",
       "      <th>BATHROOMS</th>\n",
       "      <th>FURNISHING</th>\n",
       "      <th>CONSTRUCTION STATUS</th>\n",
       "      <th>LISTED BY</th>\n",
       "      <th>SUPER BUILTUP AREA (FT²)</th>\n",
       "      <th>CARPET AREA (FT²)</th>\n",
       "      <th>TOTAL FLOORS</th>\n",
       "      <th>CAR PARKING</th>\n",
       "      <th>FACING</th>\n",
       "      <th>MAINTENANCE (MONTHLY)</th>\n",
       "      <th>FLOOR NO</th>\n",
       "      <th>LOCALITY</th>\n",
       "      <th>STATE</th>\n",
       "      <th>HOUSEPRICE</th>\n",
       "    </tr>\n",
       "  </thead>\n",
       "  <tbody>\n",
       "    <tr>\n",
       "      <th>0</th>\n",
       "      <td>apartments</td>\n",
       "      <td>2</td>\n",
       "      <td>2</td>\n",
       "      <td>unfurnished</td>\n",
       "      <td>ready to move</td>\n",
       "      <td>owner</td>\n",
       "      <td>600</td>\n",
       "      <td>600</td>\n",
       "      <td>5.0</td>\n",
       "      <td>1</td>\n",
       "      <td>east</td>\n",
       "      <td>NaN</td>\n",
       "      <td>3.0</td>\n",
       "      <td>geetanjali city phase 2</td>\n",
       "      <td>chhattisgarh</td>\n",
       "      <td>1800000</td>\n",
       "    </tr>\n",
       "    <tr>\n",
       "      <th>1</th>\n",
       "      <td>apartments</td>\n",
       "      <td>2</td>\n",
       "      <td>2</td>\n",
       "      <td>furnished</td>\n",
       "      <td>under construction</td>\n",
       "      <td>owner</td>\n",
       "      <td>180</td>\n",
       "      <td>17</td>\n",
       "      <td>21.0</td>\n",
       "      <td>2</td>\n",
       "      <td>east</td>\n",
       "      <td>2000.0</td>\n",
       "      <td>17.0</td>\n",
       "      <td>doiwala</td>\n",
       "      <td>uttarakhand</td>\n",
       "      <td>2900000</td>\n",
       "    </tr>\n",
       "    <tr>\n",
       "      <th>2</th>\n",
       "      <td>builder floors</td>\n",
       "      <td>2</td>\n",
       "      <td>2</td>\n",
       "      <td>furnished</td>\n",
       "      <td>under construction</td>\n",
       "      <td>builder</td>\n",
       "      <td>540</td>\n",
       "      <td>40</td>\n",
       "      <td>6.0</td>\n",
       "      <td>1</td>\n",
       "      <td>north-east</td>\n",
       "      <td>0.0</td>\n",
       "      <td>6.0</td>\n",
       "      <td>subhash nagar</td>\n",
       "      <td>delhi</td>\n",
       "      <td>5500000</td>\n",
       "    </tr>\n",
       "    <tr>\n",
       "      <th>3</th>\n",
       "      <td>houses &amp; villas</td>\n",
       "      <td>4</td>\n",
       "      <td>4</td>\n",
       "      <td>semi-furnished</td>\n",
       "      <td>ready to move</td>\n",
       "      <td>dealer</td>\n",
       "      <td>1200</td>\n",
       "      <td>2400</td>\n",
       "      <td>2.0</td>\n",
       "      <td>1</td>\n",
       "      <td>north</td>\n",
       "      <td>2.0</td>\n",
       "      <td>2.0</td>\n",
       "      <td>kathgodam</td>\n",
       "      <td>uttarakhand</td>\n",
       "      <td>7000000</td>\n",
       "    </tr>\n",
       "    <tr>\n",
       "      <th>4</th>\n",
       "      <td>houses &amp; villas</td>\n",
       "      <td>3</td>\n",
       "      <td>2</td>\n",
       "      <td>furnished</td>\n",
       "      <td>new launch</td>\n",
       "      <td>owner</td>\n",
       "      <td>1500</td>\n",
       "      <td>1500</td>\n",
       "      <td>1.0</td>\n",
       "      <td>1</td>\n",
       "      <td>east</td>\n",
       "      <td>0.0</td>\n",
       "      <td>1.0</td>\n",
       "      <td>maharana pratap chowk</td>\n",
       "      <td>chhattisgarh</td>\n",
       "      <td>3900000</td>\n",
       "    </tr>\n",
       "  </tbody>\n",
       "</table>\n",
       "</div>"
      ],
      "text/plain": [
       "              TYPE BEDROOMS BATHROOMS      FURNISHING CONSTRUCTION STATUS  \\\n",
       "0       apartments        2         2     unfurnished       ready to move   \n",
       "1       apartments        2         2       furnished  under construction   \n",
       "2   builder floors        2         2       furnished  under construction   \n",
       "3  houses & villas        4         4  semi-furnished       ready to move   \n",
       "4  houses & villas        3         2       furnished          new launch   \n",
       "\n",
       "  LISTED BY  SUPER BUILTUP AREA (FT²)  CARPET AREA (FT²)  TOTAL FLOORS  \\\n",
       "0     owner                       600                600           5.0   \n",
       "1     owner                       180                 17          21.0   \n",
       "2   builder                       540                 40           6.0   \n",
       "3    dealer                      1200               2400           2.0   \n",
       "4     owner                      1500               1500           1.0   \n",
       "\n",
       "  CAR PARKING      FACING  MAINTENANCE (MONTHLY)  FLOOR NO  \\\n",
       "0           1        east                    NaN       3.0   \n",
       "1           2        east                 2000.0      17.0   \n",
       "2           1  north-east                    0.0       6.0   \n",
       "3           1       north                    2.0       2.0   \n",
       "4           1        east                    0.0       1.0   \n",
       "\n",
       "                  LOCALITY         STATE  HOUSEPRICE  \n",
       "0  geetanjali city phase 2  chhattisgarh     1800000  \n",
       "1                  doiwala   uttarakhand     2900000  \n",
       "2            subhash nagar         delhi     5500000  \n",
       "3                kathgodam   uttarakhand     7000000  \n",
       "4    maharana pratap chowk  chhattisgarh     3900000  "
      ]
     },
     "execution_count": 6,
     "metadata": {},
     "output_type": "execute_result"
    }
   ],
   "source": [
    "df.head()"
   ]
  },
  {
   "cell_type": "code",
   "execution_count": 7,
   "id": "f0d9187c",
   "metadata": {},
   "outputs": [
    {
     "data": {
      "text/plain": [
       "(11008, 16)"
      ]
     },
     "execution_count": 7,
     "metadata": {},
     "output_type": "execute_result"
    }
   ],
   "source": [
    "df.shape"
   ]
  },
  {
   "cell_type": "code",
   "execution_count": 8,
   "id": "6bbcf8af",
   "metadata": {},
   "outputs": [
    {
     "data": {
      "text/plain": [
       "Index(['TYPE', 'BEDROOMS', 'BATHROOMS', 'FURNISHING', 'CONSTRUCTION STATUS',\n",
       "       'LISTED BY', 'SUPER BUILTUP AREA (FT²)', 'CARPET AREA (FT²)',\n",
       "       'TOTAL FLOORS', 'CAR PARKING', 'FACING', 'MAINTENANCE (MONTHLY)',\n",
       "       'FLOOR NO', 'LOCALITY', 'STATE', 'HOUSEPRICE'],\n",
       "      dtype='object')"
      ]
     },
     "execution_count": 8,
     "metadata": {},
     "output_type": "execute_result"
    }
   ],
   "source": [
    "df.columns"
   ]
  },
  {
   "cell_type": "code",
   "execution_count": 9,
   "id": "f5352353",
   "metadata": {},
   "outputs": [
    {
     "data": {
      "text/plain": [
       "count    1.100800e+04\n",
       "mean     6.350402e+06\n",
       "std      1.029913e+07\n",
       "min      2.000000e+05\n",
       "25%      2.900000e+06\n",
       "50%      4.500000e+06\n",
       "75%      6.999999e+06\n",
       "max      4.000000e+08\n",
       "Name: HOUSEPRICE, dtype: float64"
      ]
     },
     "execution_count": 9,
     "metadata": {},
     "output_type": "execute_result"
    }
   ],
   "source": [
    "df[\"HOUSEPRICE\"].describe()"
   ]
  },
  {
   "cell_type": "code",
   "execution_count": 10,
   "id": "ad6ed9e7",
   "metadata": {},
   "outputs": [
    {
     "data": {
      "text/html": [
       "<div>\n",
       "<style scoped>\n",
       "    .dataframe tbody tr th:only-of-type {\n",
       "        vertical-align: middle;\n",
       "    }\n",
       "\n",
       "    .dataframe tbody tr th {\n",
       "        vertical-align: top;\n",
       "    }\n",
       "\n",
       "    .dataframe thead th {\n",
       "        text-align: right;\n",
       "    }\n",
       "</style>\n",
       "<table border=\"1\" class=\"dataframe\">\n",
       "  <thead>\n",
       "    <tr style=\"text-align: right;\">\n",
       "      <th></th>\n",
       "      <th>SUPER BUILTUP AREA (FT²)</th>\n",
       "      <th>CARPET AREA (FT²)</th>\n",
       "      <th>TOTAL FLOORS</th>\n",
       "      <th>MAINTENANCE (MONTHLY)</th>\n",
       "      <th>FLOOR NO</th>\n",
       "      <th>HOUSEPRICE</th>\n",
       "    </tr>\n",
       "  </thead>\n",
       "  <tbody>\n",
       "    <tr>\n",
       "      <th>count</th>\n",
       "      <td>11008.000000</td>\n",
       "      <td>11008.000000</td>\n",
       "      <td>10086.000000</td>\n",
       "      <td>8054.000000</td>\n",
       "      <td>8971.000000</td>\n",
       "      <td>1.100800e+04</td>\n",
       "    </tr>\n",
       "    <tr>\n",
       "      <th>mean</th>\n",
       "      <td>1336.696948</td>\n",
       "      <td>1118.105378</td>\n",
       "      <td>4.161114</td>\n",
       "      <td>643.118947</td>\n",
       "      <td>3.913053</td>\n",
       "      <td>6.350402e+06</td>\n",
       "    </tr>\n",
       "    <tr>\n",
       "      <th>std</th>\n",
       "      <td>901.751621</td>\n",
       "      <td>793.194962</td>\n",
       "      <td>4.229874</td>\n",
       "      <td>906.312683</td>\n",
       "      <td>22.564567</td>\n",
       "      <td>1.029913e+07</td>\n",
       "    </tr>\n",
       "    <tr>\n",
       "      <th>min</th>\n",
       "      <td>100.000000</td>\n",
       "      <td>0.000000</td>\n",
       "      <td>0.000000</td>\n",
       "      <td>0.000000</td>\n",
       "      <td>0.000000</td>\n",
       "      <td>2.000000e+05</td>\n",
       "    </tr>\n",
       "    <tr>\n",
       "      <th>25%</th>\n",
       "      <td>846.000000</td>\n",
       "      <td>680.000000</td>\n",
       "      <td>2.000000</td>\n",
       "      <td>0.000000</td>\n",
       "      <td>1.000000</td>\n",
       "      <td>2.900000e+06</td>\n",
       "    </tr>\n",
       "    <tr>\n",
       "      <th>50%</th>\n",
       "      <td>1195.000000</td>\n",
       "      <td>999.500000</td>\n",
       "      <td>3.000000</td>\n",
       "      <td>500.000000</td>\n",
       "      <td>2.000000</td>\n",
       "      <td>4.500000e+06</td>\n",
       "    </tr>\n",
       "    <tr>\n",
       "      <th>75%</th>\n",
       "      <td>1600.000000</td>\n",
       "      <td>1400.000000</td>\n",
       "      <td>5.000000</td>\n",
       "      <td>1000.000000</td>\n",
       "      <td>3.000000</td>\n",
       "      <td>6.999999e+06</td>\n",
       "    </tr>\n",
       "    <tr>\n",
       "      <th>max</th>\n",
       "      <td>10000.000000</td>\n",
       "      <td>11164.000000</td>\n",
       "      <td>60.000000</td>\n",
       "      <td>10000.000000</td>\n",
       "      <td>806.000000</td>\n",
       "      <td>4.000000e+08</td>\n",
       "    </tr>\n",
       "  </tbody>\n",
       "</table>\n",
       "</div>"
      ],
      "text/plain": [
       "       SUPER BUILTUP AREA (FT²)  CARPET AREA (FT²)  TOTAL FLOORS  \\\n",
       "count              11008.000000       11008.000000  10086.000000   \n",
       "mean                1336.696948        1118.105378      4.161114   \n",
       "std                  901.751621         793.194962      4.229874   \n",
       "min                  100.000000           0.000000      0.000000   \n",
       "25%                  846.000000         680.000000      2.000000   \n",
       "50%                 1195.000000         999.500000      3.000000   \n",
       "75%                 1600.000000        1400.000000      5.000000   \n",
       "max                10000.000000       11164.000000     60.000000   \n",
       "\n",
       "       MAINTENANCE (MONTHLY)     FLOOR NO    HOUSEPRICE  \n",
       "count            8054.000000  8971.000000  1.100800e+04  \n",
       "mean              643.118947     3.913053  6.350402e+06  \n",
       "std               906.312683    22.564567  1.029913e+07  \n",
       "min                 0.000000     0.000000  2.000000e+05  \n",
       "25%                 0.000000     1.000000  2.900000e+06  \n",
       "50%               500.000000     2.000000  4.500000e+06  \n",
       "75%              1000.000000     3.000000  6.999999e+06  \n",
       "max             10000.000000   806.000000  4.000000e+08  "
      ]
     },
     "execution_count": 10,
     "metadata": {},
     "output_type": "execute_result"
    }
   ],
   "source": [
    "df.describe()"
   ]
  },
  {
   "cell_type": "code",
   "execution_count": 11,
   "id": "0f3e19d6",
   "metadata": {},
   "outputs": [],
   "source": [
    "df.drop(\"MAINTENANCE (MONTHLY)\",axis=1,inplace=True)"
   ]
  },
  {
   "cell_type": "code",
   "execution_count": 12,
   "id": "ab62d024",
   "metadata": {},
   "outputs": [],
   "source": [
    "df.drop(\"SUPER BUILTUP AREA (FT²)\",axis=1,inplace=True)"
   ]
  },
  {
   "cell_type": "code",
   "execution_count": 13,
   "id": "a3a17b09",
   "metadata": {},
   "outputs": [
    {
     "data": {
      "text/plain": [
       "(11008, 14)"
      ]
     },
     "execution_count": 13,
     "metadata": {},
     "output_type": "execute_result"
    }
   ],
   "source": [
    "df.shape"
   ]
  },
  {
   "cell_type": "markdown",
   "id": "4089ce53",
   "metadata": {},
   "source": [
    "# Computing NAN values"
   ]
  },
  {
   "cell_type": "code",
   "execution_count": 14,
   "id": "1474d933",
   "metadata": {},
   "outputs": [
    {
     "data": {
      "text/plain": [
       "TYPE                      1\n",
       "BEDROOMS                 86\n",
       "BATHROOMS                87\n",
       "FURNISHING              200\n",
       "CONSTRUCTION STATUS     139\n",
       "LISTED BY               187\n",
       "CARPET AREA (FT²)         0\n",
       "TOTAL FLOORS            922\n",
       "CAR PARKING             783\n",
       "FACING                 1272\n",
       "FLOOR NO               2037\n",
       "LOCALITY                 10\n",
       "STATE                     0\n",
       "HOUSEPRICE                0\n",
       "dtype: int64"
      ]
     },
     "execution_count": 14,
     "metadata": {},
     "output_type": "execute_result"
    }
   ],
   "source": [
    "df.isnull().sum()"
   ]
  },
  {
   "cell_type": "code",
   "execution_count": 15,
   "id": "16c574ff",
   "metadata": {},
   "outputs": [
    {
     "name": "stderr",
     "output_type": "stream",
     "text": [
      "<ipython-input-15-87d066c5fc74>:3: SettingWithCopyWarning: \n",
      "A value is trying to be set on a copy of a slice from a DataFrame\n",
      "\n",
      "See the caveats in the documentation: https://pandas.pydata.org/pandas-docs/stable/user_guide/indexing.html#returning-a-view-versus-a-copy\n",
      "  df['BEDROOMS'][i]=df['BEDROOMS'].value_counts().index[0]\n",
      "<ipython-input-15-87d066c5fc74>:5: SettingWithCopyWarning: \n",
      "A value is trying to be set on a copy of a slice from a DataFrame\n",
      "\n",
      "See the caveats in the documentation: https://pandas.pydata.org/pandas-docs/stable/user_guide/indexing.html#returning-a-view-versus-a-copy\n",
      "  df['BEDROOMS'][i]=df['BEDROOMS'].value_counts().index[1]\n"
     ]
    }
   ],
   "source": [
    "for i in range(len(df)):\n",
    "    if pd.isna(df['BEDROOMS'][i]) and df['CARPET AREA (FT²)'][i]<=1300 :\n",
    "        df['BEDROOMS'][i]=df['BEDROOMS'].value_counts().index[0]\n",
    "    elif pd.isna(df['BEDROOMS'][i]) and df['CARPET AREA (FT²)'][i]>1300 :\n",
    "        df['BEDROOMS'][i]=df['BEDROOMS'].value_counts().index[1]"
   ]
  },
  {
   "cell_type": "code",
   "execution_count": 16,
   "id": "4856947e",
   "metadata": {},
   "outputs": [
    {
     "data": {
      "text/plain": [
       "pandas.core.series.Series"
      ]
     },
     "execution_count": 16,
     "metadata": {},
     "output_type": "execute_result"
    }
   ],
   "source": [
    "type(df[\"BEDROOMS\"])"
   ]
  },
  {
   "cell_type": "code",
   "execution_count": 17,
   "id": "da62e881",
   "metadata": {},
   "outputs": [
    {
     "name": "stderr",
     "output_type": "stream",
     "text": [
      "<ipython-input-17-4ca27390091b>:3: SettingWithCopyWarning: \n",
      "A value is trying to be set on a copy of a slice from a DataFrame\n",
      "\n",
      "See the caveats in the documentation: https://pandas.pydata.org/pandas-docs/stable/user_guide/indexing.html#returning-a-view-versus-a-copy\n",
      "  df['BATHROOMS'][i]=df['BATHROOMS'].value_counts().index[0]\n",
      "<ipython-input-17-4ca27390091b>:5: SettingWithCopyWarning: \n",
      "A value is trying to be set on a copy of a slice from a DataFrame\n",
      "\n",
      "See the caveats in the documentation: https://pandas.pydata.org/pandas-docs/stable/user_guide/indexing.html#returning-a-view-versus-a-copy\n",
      "  df['BATHROOMS'][i]=df['BATHROOMS'].value_counts().index[1]\n"
     ]
    }
   ],
   "source": [
    "for i in range(len(df)):\n",
    "    if pd.isna(df['BATHROOMS'][i]) and df['CARPET AREA (FT²)'][i]<=1300 :\n",
    "        df['BATHROOMS'][i]=df['BATHROOMS'].value_counts().index[0]\n",
    "    elif pd.isna(df['BATHROOMS'][i]) and df['CARPET AREA (FT²)'][i]>1300 :\n",
    "        df['BATHROOMS'][i]=df['BATHROOMS'].value_counts().index[1]"
   ]
  },
  {
   "cell_type": "code",
   "execution_count": 18,
   "id": "62c91127",
   "metadata": {},
   "outputs": [],
   "source": [
    "df[\"TYPE\"].fillna(df[\"TYPE\"].value_counts().index[0],inplace=True)"
   ]
  },
  {
   "cell_type": "code",
   "execution_count": 19,
   "id": "de6a4fe5",
   "metadata": {},
   "outputs": [],
   "source": [
    "df[\"FURNISHING\"].fillna(df[\"FURNISHING\"].value_counts().index[0],inplace=True)"
   ]
  },
  {
   "cell_type": "code",
   "execution_count": 20,
   "id": "f0e6c78b",
   "metadata": {},
   "outputs": [],
   "source": [
    "df[\"CONSTRUCTION STATUS\"].fillna(df[\"CONSTRUCTION STATUS\"].value_counts().index[0],inplace=True)"
   ]
  },
  {
   "cell_type": "code",
   "execution_count": 21,
   "id": "8205ef2d",
   "metadata": {},
   "outputs": [],
   "source": [
    "df[\"LISTED BY\"].fillna(df[\"LISTED BY\"].value_counts().index[0],inplace=True)"
   ]
  },
  {
   "cell_type": "code",
   "execution_count": 22,
   "id": "7f7b9016",
   "metadata": {},
   "outputs": [],
   "source": [
    "df[\"TOTAL FLOORS\"].fillna(df[\"TOTAL FLOORS\"].median(),inplace=True)"
   ]
  },
  {
   "cell_type": "code",
   "execution_count": 23,
   "id": "572649cb",
   "metadata": {},
   "outputs": [],
   "source": [
    "df[\"CAR PARKING\"].fillna(df[\"CAR PARKING\"].value_counts().index[0],inplace=True)"
   ]
  },
  {
   "cell_type": "code",
   "execution_count": 24,
   "id": "046c2ad5",
   "metadata": {},
   "outputs": [],
   "source": [
    "df[\"FACING\"].fillna(df[\"FACING\"].value_counts().index[0],inplace=True)"
   ]
  },
  {
   "cell_type": "code",
   "execution_count": 25,
   "id": "c13b73ae",
   "metadata": {},
   "outputs": [],
   "source": [
    "df[\"FLOOR NO\"].fillna(df[\"FLOOR NO\"].median(),inplace=True)"
   ]
  },
  {
   "cell_type": "code",
   "execution_count": 26,
   "id": "fd5091b4",
   "metadata": {},
   "outputs": [],
   "source": [
    "df[\"LOCALITY\"].fillna(df[\"LOCALITY\"].value_counts().index[0],inplace=True)"
   ]
  },
  {
   "cell_type": "code",
   "execution_count": 27,
   "id": "5a08dd18",
   "metadata": {},
   "outputs": [
    {
     "data": {
      "image/png": "[encoded data removed]",
      "text/plain": [
       "<Figure size 432x288 with 2 Axes>"
      ]
     },
     "metadata": {
      "needs_background": "light"
     },
     "output_type": "display_data"
    }
   ],
   "source": [
    "import seaborn as sns\n",
    "import matplotlib.pyplot as plt\n",
    "sns.heatmap(df.isnull())\n",
    "plt.show()"
   ]
  },
  {
   "cell_type": "code",
   "execution_count": 28,
   "id": "1fc1ae91",
   "metadata": {},
   "outputs": [
    {
     "data": {
      "text/plain": [
       "TYPE                   0\n",
       "BEDROOMS               0\n",
       "BATHROOMS              0\n",
       "FURNISHING             0\n",
       "CONSTRUCTION STATUS    0\n",
       "LISTED BY              0\n",
       "CARPET AREA (FT²)      0\n",
       "TOTAL FLOORS           0\n",
       "CAR PARKING            0\n",
       "FACING                 0\n",
       "FLOOR NO               0\n",
       "LOCALITY               0\n",
       "STATE                  0\n",
       "HOUSEPRICE             0\n",
       "dtype: int64"
      ]
     },
     "execution_count": 28,
     "metadata": {},
     "output_type": "execute_result"
    }
   ],
   "source": [
    "df.isnull().sum()"
   ]
  },
  {
   "cell_type": "markdown",
   "id": "12062448",
   "metadata": {},
   "source": [
    "# EDA"
   ]
  },
  {
   "cell_type": "markdown",
   "id": "d7c97a57",
   "metadata": {},
   "source": [
    "# Univariate"
   ]
  },
  {
   "cell_type": "code",
   "execution_count": 29,
   "id": "1bb6cf63",
   "metadata": {},
   "outputs": [],
   "source": [
    "categorical_v=df.select_dtypes(include=[\"object\"]).columns\n",
    "numerical_v=df.select_dtypes(include=[\"float\"]).columns"
   ]
  },
  {
   "cell_type": "code",
   "execution_count": 30,
   "id": "48915f87",
   "metadata": {},
   "outputs": [
    {
     "data": {
      "text/plain": [
       "Index(['TOTAL FLOORS', 'FLOOR NO'], dtype='object')"
      ]
     },
     "execution_count": 30,
     "metadata": {},
     "output_type": "execute_result"
    }
   ],
   "source": [
    "numerical_v"
   ]
  },
  {
   "cell_type": "code",
   "execution_count": 31,
   "id": "3034cedf",
   "metadata": {},
   "outputs": [
    {
     "data": {
      "text/plain": [
       "<AxesSubplot:>"
      ]
     },
     "execution_count": 31,
     "metadata": {},
     "output_type": "execute_result"
    },
    {
     "data": {
      "image/png": "[encoded data removed]",
      "text/plain": [
       "<Figure size 432x288 with 1 Axes>"
      ]
     },
     "metadata": {
      "needs_background": "light"
     },
     "output_type": "display_data"
    }
   ],
   "source": [
    "df[\"TYPE\"].value_counts().plot(kind=\"bar\")\n"
   ]
  },
  {
   "cell_type": "code",
   "execution_count": 32,
   "id": "e41b9984",
   "metadata": {},
   "outputs": [
    {
     "data": {
      "text/plain": [
       "<AxesSubplot:>"
      ]
     },
     "execution_count": 32,
     "metadata": {},
     "output_type": "execute_result"
    },
    {
     "data": {
      "image/png": "[encoded data removed]",
      "text/plain": [
       "<Figure size 432x288 with 1 Axes>"
      ]
     },
     "metadata": {
      "needs_background": "light"
     },
     "output_type": "display_data"
    }
   ],
   "source": [
    "df[\"BEDROOMS\"].value_counts().plot(kind=\"bar\")"
   ]
  },
  {
   "cell_type": "code",
   "execution_count": 33,
   "id": "6e0baaf2",
   "metadata": {},
   "outputs": [
    {
     "data": {
      "text/plain": [
       "Text(0.5, 1.0, 'BATHROOMS')"
      ]
     },
     "execution_count": 33,
     "metadata": {},
     "output_type": "execute_result"
    },
    {
     "data": {
      "image/png": "[encoded data removed]",
      "text/plain": [
       "<Figure size 432x288 with 1 Axes>"
      ]
     },
     "metadata": {
      "needs_background": "light"
     },
     "output_type": "display_data"
    }
   ],
   "source": [
    "df[\"BATHROOMS\"].value_counts().plot(kind=\"bar\")\n",
    "plt.title(\"BATHROOMS\")"
   ]
  },
  {
   "cell_type": "code",
   "execution_count": 34,
   "id": "74e9281a",
   "metadata": {},
   "outputs": [
    {
     "data": {
      "text/plain": [
       "Text(0.5, 1.0, 'FURNISHING')"
      ]
     },
     "execution_count": 34,
     "metadata": {},
     "output_type": "execute_result"
    },
    {
     "data": {
      "image/png": "[encoded data removed]",
      "text/plain": [
       "<Figure size 432x288 with 1 Axes>"
      ]
     },
     "metadata": {
      "needs_background": "light"
     },
     "output_type": "display_data"
    }
   ],
   "source": [
    "df[\"FURNISHING\"].value_counts().plot(kind=\"bar\")\n",
    "plt.title(\"FURNISHING\")"
   ]
  },
  {
   "cell_type": "code",
   "execution_count": 35,
   "id": "ad16c0b8",
   "metadata": {},
   "outputs": [
    {
     "data": {
      "text/plain": [
       "Text(0.5, 1.0, 'CONSTRUCTION STATUS')"
      ]
     },
     "execution_count": 35,
     "metadata": {},
     "output_type": "execute_result"
    },
    {
     "data": {
      "image/png": "[encoded data removed]",
      "text/plain": [
       "<Figure size 432x288 with 1 Axes>"
      ]
     },
     "metadata": {
      "needs_background": "light"
     },
     "output_type": "display_data"
    }
   ],
   "source": [
    "df[\"CONSTRUCTION STATUS\"].value_counts().plot(kind=\"bar\")\n",
    "plt.title(\"CONSTRUCTION STATUS\")"
   ]
  },
  {
   "cell_type": "code",
   "execution_count": 36,
   "id": "386c69f3",
   "metadata": {},
   "outputs": [
    {
     "data": {
      "text/plain": [
       "Text(0.5, 1.0, 'LISTED BY')"
      ]
     },
     "execution_count": 36,
     "metadata": {},
     "output_type": "execute_result"
    },
    {
     "data": {
      "image/png": "[encoded data removed]",
      "text/plain": [
       "<Figure size 432x288 with 1 Axes>"
      ]
     },
     "metadata": {
      "needs_background": "light"
     },
     "output_type": "display_data"
    }
   ],
   "source": [
    "df[\"LISTED BY\"].value_counts().plot(kind=\"bar\")\n",
    "plt.title(\"LISTED BY\")"
   ]
  },
  {
   "cell_type": "markdown",
   "id": "78cdd32b",
   "metadata": {},
   "source": [
    "# Bi-variate"
   ]
  },
  {
   "cell_type": "code",
   "execution_count": 37,
   "id": "914a78be",
   "metadata": {},
   "outputs": [],
   "source": [
    "df.drop(labels=[2290,4127,4128,4129,4145,4146,4147],axis=0,inplace=True)"
   ]
  },
  {
   "cell_type": "code",
   "execution_count": 38,
   "id": "700be69c",
   "metadata": {},
   "outputs": [],
   "source": [
    "df[\"HOUSEPRICE\"]=pd.to_numeric(df[\"HOUSEPRICE\"])"
   ]
  },
  {
   "cell_type": "code",
   "execution_count": 39,
   "id": "317d9ff8",
   "metadata": {},
   "outputs": [],
   "source": [
    "import seaborn as sns\n",
    "import matplotlib.pyplot as plt"
   ]
  },
  {
   "cell_type": "code",
   "execution_count": 40,
   "id": "93fc484c",
   "metadata": {
    "scrolled": false
   },
   "outputs": [
    {
     "data": {
      "image/png": "[encoded data removed]",
      "text/plain": [
       "<Figure size 432x288 with 1 Axes>"
      ]
     },
     "metadata": {
      "needs_background": "light"
     },
     "output_type": "display_data"
    },
    {
     "data": {
      "image/png": "[encoded data removed]",
      "text/plain": [
       "<Figure size 432x288 with 1 Axes>"
      ]
     },
     "metadata": {
      "needs_background": "light"
     },
     "output_type": "display_data"
    },
    {
     "data": {
      "image/png": "[encoded data removed]",
      "text/plain": [
       "<Figure size 432x288 with 1 Axes>"
      ]
     },
     "metadata": {
      "needs_background": "light"
     },
     "output_type": "display_data"
    },
    {
     "data": {
      "image/png": "[encoded data removed]",
      "text/plain": [
       "<Figure size 432x288 with 1 Axes>"
      ]
     },
     "metadata": {
      "needs_background": "light"
     },
     "output_type": "display_data"
    },
    {
     "data": {
      "image/png": "[encoded data removed]",
      "text/plain": [
       "<Figure size 432x288 with 1 Axes>"
      ]
     },
     "metadata": {
      "needs_background": "light"
     },
     "output_type": "display_data"
    },
    {
     "data": {
      "image/png": "[encoded data removed]",
      "text/plain": [
       "<Figure size 432x288 with 1 Axes>"
      ]
     },
     "metadata": {
      "needs_background": "light"
     },
     "output_type": "display_data"
    },
    {
     "data": {
      "image/png": "[encoded data removed]",
      "text/plain": [
       "<Figure size 432x288 with 1 Axes>"
      ]
     },
     "metadata": {
      "needs_background": "light"
     },
     "output_type": "display_data"
    },
    {
     "data": {
      "image/png": "[encoded data removed]",
      "text/plain": [
       "<Figure size 432x288 with 1 Axes>"
      ]
     },
     "metadata": {
      "needs_background": "light"
     },
     "output_type": "display_data"
    },
    {
     "data": {
      "image/png": "[encoded data removed]",
      "text/plain": [
       "<Figure size 432x288 with 1 Axes>"
      ]
     },
     "metadata": {
      "needs_background": "light"
     },
     "output_type": "display_data"
    },
    {
     "data": {
      "image/png": "[encoded data removed]",
      "text/plain": [
       "<Figure size 432x288 with 1 Axes>"
      ]
     },
     "metadata": {
      "needs_background": "light"
     },
     "output_type": "display_data"
    }
   ],
   "source": [
    "for i in categorical_v:\n",
    "    data=df.copy()\n",
    "    data.groupby([i])[\"HOUSEPRICE\"].mean().plot.bar()\n",
    "    plt.xlabel(i)\n",
    "    plt.ylabel(\"mean\")\n",
    "    plt.show()"
   ]
  },
  {
   "cell_type": "code",
   "execution_count": 41,
   "id": "a86ac1ec",
   "metadata": {},
   "outputs": [
    {
     "data": {
      "text/html": [
       "<div>\n",
       "<style scoped>\n",
       "    .dataframe tbody tr th:only-of-type {\n",
       "        vertical-align: middle;\n",
       "    }\n",
       "\n",
       "    .dataframe tbody tr th {\n",
       "        vertical-align: top;\n",
       "    }\n",
       "\n",
       "    .dataframe thead th {\n",
       "        text-align: right;\n",
       "    }\n",
       "</style>\n",
       "<table border=\"1\" class=\"dataframe\">\n",
       "  <thead>\n",
       "    <tr style=\"text-align: right;\">\n",
       "      <th></th>\n",
       "      <th>CARPET AREA (FT²)</th>\n",
       "      <th>TOTAL FLOORS</th>\n",
       "      <th>FLOOR NO</th>\n",
       "      <th>HOUSEPRICE</th>\n",
       "    </tr>\n",
       "  </thead>\n",
       "  <tbody>\n",
       "    <tr>\n",
       "      <th>CARPET AREA (FT²)</th>\n",
       "      <td>1.000000</td>\n",
       "      <td>-0.044938</td>\n",
       "      <td>-0.009625</td>\n",
       "      <td>0.227476</td>\n",
       "    </tr>\n",
       "    <tr>\n",
       "      <th>TOTAL FLOORS</th>\n",
       "      <td>-0.044938</td>\n",
       "      <td>1.000000</td>\n",
       "      <td>0.089761</td>\n",
       "      <td>0.021117</td>\n",
       "    </tr>\n",
       "    <tr>\n",
       "      <th>FLOOR NO</th>\n",
       "      <td>-0.009625</td>\n",
       "      <td>0.089761</td>\n",
       "      <td>1.000000</td>\n",
       "      <td>0.016000</td>\n",
       "    </tr>\n",
       "    <tr>\n",
       "      <th>HOUSEPRICE</th>\n",
       "      <td>0.227476</td>\n",
       "      <td>0.021117</td>\n",
       "      <td>0.016000</td>\n",
       "      <td>1.000000</td>\n",
       "    </tr>\n",
       "  </tbody>\n",
       "</table>\n",
       "</div>"
      ],
      "text/plain": [
       "                   CARPET AREA (FT²)  TOTAL FLOORS  FLOOR NO  HOUSEPRICE\n",
       "CARPET AREA (FT²)           1.000000     -0.044938 -0.009625    0.227476\n",
       "TOTAL FLOORS               -0.044938      1.000000  0.089761    0.021117\n",
       "FLOOR NO                   -0.009625      0.089761  1.000000    0.016000\n",
       "HOUSEPRICE                  0.227476      0.021117  0.016000    1.000000"
      ]
     },
     "execution_count": 41,
     "metadata": {},
     "output_type": "execute_result"
    }
   ],
   "source": [
    "df.corr()\n"
   ]
  },
  {
   "cell_type": "code",
   "execution_count": 42,
   "id": "67f7d9a8",
   "metadata": {},
   "outputs": [
    {
     "data": {
      "text/plain": [
       "<AxesSubplot:>"
      ]
     },
     "execution_count": 42,
     "metadata": {},
     "output_type": "execute_result"
    },
    {
     "data": {
      "image/png": "[encoded data removed]",
      "text/plain": [
       "<Figure size 432x288 with 2 Axes>"
      ]
     },
     "metadata": {
      "needs_background": "light"
     },
     "output_type": "display_data"
    }
   ],
   "source": [
    "sns.heatmap(df.corr())"
   ]
  },
  {
   "cell_type": "markdown",
   "id": "717ded02",
   "metadata": {},
   "source": [
    "From the above plot we can see that CARPET AREA (FT²) and SUPER BUILTUP AREA (FT²) has positive correlation(score=0.76) with each other , in other words it tells us that increase in carpet area with the increase in supar builtup area "
   ]
  },
  {
   "cell_type": "code",
   "execution_count": 43,
   "id": "17843e73",
   "metadata": {},
   "outputs": [
    {
     "data": {
      "text/plain": [
       "Index(['TYPE', 'BEDROOMS', 'BATHROOMS', 'FURNISHING', 'CONSTRUCTION STATUS',\n",
       "       'LISTED BY', 'CARPET AREA (FT²)', 'TOTAL FLOORS', 'CAR PARKING',\n",
       "       'FACING', 'FLOOR NO', 'LOCALITY', 'STATE', 'HOUSEPRICE'],\n",
       "      dtype='object')"
      ]
     },
     "execution_count": 43,
     "metadata": {},
     "output_type": "execute_result"
    }
   ],
   "source": [
    "df.columns"
   ]
  },
  {
   "cell_type": "code",
   "execution_count": 44,
   "id": "3139a3e9",
   "metadata": {},
   "outputs": [
    {
     "name": "stdout",
     "output_type": "stream",
     "text": [
      "Requirement already satisfied: feature_engine in c:\\users\\pavan_scottline\\anaconda3\\lib\\site-packages (1.1.2)\n",
      "Requirement already satisfied: scipy>=1.4.1 in c:\\users\\pavan_scottline\\anaconda3\\lib\\site-packages (from feature_engine) (1.6.2)\n",
      "Requirement already satisfied: numpy>=1.18.2 in c:\\users\\pavan_scottline\\anaconda3\\lib\\site-packages (from feature_engine) (1.19.5)\n",
      "Requirement already satisfied: statsmodels>=0.11.1 in c:\\users\\pavan_scottline\\anaconda3\\lib\\site-packages (from feature_engine) (0.12.2)\n",
      "Requirement already satisfied: scikit-learn>=0.22.2 in c:\\users\\pavan_scottline\\anaconda3\\lib\\site-packages (from feature_engine) (0.24.1)\n",
      "Requirement already satisfied: pandas>=1.0.3 in c:\\users\\pavan_scottline\\anaconda3\\lib\\site-packages (from feature_engine) (1.2.4)\n",
      "Requirement already satisfied: python-dateutil>=2.7.3 in c:\\users\\pavan_scottline\\anaconda3\\lib\\site-packages (from pandas>=1.0.3->feature_engine) (2.8.1)\n",
      "Requirement already satisfied: pytz>=2017.3 in c:\\users\\pavan_scottline\\anaconda3\\lib\\site-packages (from pandas>=1.0.3->feature_engine) (2021.1)\n",
      "Requirement already satisfied: six>=1.5 in c:\\users\\pavan_scottline\\anaconda3\\lib\\site-packages (from python-dateutil>=2.7.3->pandas>=1.0.3->feature_engine) (1.15.0)\n",
      "Requirement already satisfied: threadpoolctl>=2.0.0 in c:\\users\\pavan_scottline\\anaconda3\\lib\\site-packages (from scikit-learn>=0.22.2->feature_engine) (2.1.0)\n",
      "Requirement already satisfied: joblib>=0.11 in c:\\users\\pavan_scottline\\anaconda3\\lib\\site-packages (from scikit-learn>=0.22.2->feature_engine) (1.0.1)\n",
      "Requirement already satisfied: patsy>=0.5 in c:\\users\\pavan_scottline\\anaconda3\\lib\\site-packages (from statsmodels>=0.11.1->feature_engine) (0.5.1)\n"
     ]
    }
   ],
   "source": [
    "!pip install feature_engine"
   ]
  },
  {
   "cell_type": "code",
   "execution_count": 45,
   "id": "85d21647",
   "metadata": {},
   "outputs": [
    {
     "name": "stderr",
     "output_type": "stream",
     "text": [
      "C:\\Users\\Pavan_Scottline\\anaconda3\\lib\\site-packages\\seaborn\\_decorators.py:36: FutureWarning: Pass the following variable as a keyword arg: x. From version 0.12, the only valid positional argument will be `data`, and passing other arguments without an explicit keyword will result in an error or misinterpretation.\n",
      "  warnings.warn(\n"
     ]
    },
    {
     "data": {
      "image/png": "[encoded data removed]",
      "text/plain": [
       "<Figure size 432x288 with 1 Axes>"
      ]
     },
     "metadata": {
      "needs_background": "light"
     },
     "output_type": "display_data"
    }
   ],
   "source": [
    "from feature_engine import outliers as outr\n",
    "cp= outr.ArbitraryOutlierCapper(max_capping_dict={'CARPET AREA (FT²)':2450.5},\n",
    "                                min_capping_dict = {'CARPET AREA (FT²)':300.0})\n",
    "df['CARPET AREA (FT²)']=cp.fit_transform(df[['CARPET AREA (FT²)']])\n",
    "\n",
    "cp.right_tail_caps_ , cp.left_tail_caps_\n",
    "\n",
    "sns.boxplot(df['CARPET AREA (FT²)'])\n",
    "plt.show()"
   ]
  },
  {
   "cell_type": "code",
   "execution_count": 46,
   "id": "9bf05b0c",
   "metadata": {},
   "outputs": [
    {
     "data": {
      "text/html": [
       "<div>\n",
       "<style scoped>\n",
       "    .dataframe tbody tr th:only-of-type {\n",
       "        vertical-align: middle;\n",
       "    }\n",
       "\n",
       "    .dataframe tbody tr th {\n",
       "        vertical-align: top;\n",
       "    }\n",
       "\n",
       "    .dataframe thead th {\n",
       "        text-align: right;\n",
       "    }\n",
       "</style>\n",
       "<table border=\"1\" class=\"dataframe\">\n",
       "  <thead>\n",
       "    <tr style=\"text-align: right;\">\n",
       "      <th></th>\n",
       "      <th>CARPET AREA (FT²)</th>\n",
       "      <th>TOTAL FLOORS</th>\n",
       "      <th>FLOOR NO</th>\n",
       "      <th>HOUSEPRICE</th>\n",
       "    </tr>\n",
       "  </thead>\n",
       "  <tbody>\n",
       "    <tr>\n",
       "      <th>count</th>\n",
       "      <td>11001.000000</td>\n",
       "      <td>11001.000000</td>\n",
       "      <td>11001.000000</td>\n",
       "      <td>1.100100e+04</td>\n",
       "    </tr>\n",
       "    <tr>\n",
       "      <th>mean</th>\n",
       "      <td>1070.827425</td>\n",
       "      <td>4.063812</td>\n",
       "      <td>3.560676</td>\n",
       "      <td>6.353193e+06</td>\n",
       "    </tr>\n",
       "    <tr>\n",
       "      <th>std</th>\n",
       "      <td>536.428335</td>\n",
       "      <td>4.062883</td>\n",
       "      <td>20.389819</td>\n",
       "      <td>1.030180e+07</td>\n",
       "    </tr>\n",
       "    <tr>\n",
       "      <th>min</th>\n",
       "      <td>300.000000</td>\n",
       "      <td>0.000000</td>\n",
       "      <td>0.000000</td>\n",
       "      <td>2.000000e+05</td>\n",
       "    </tr>\n",
       "    <tr>\n",
       "      <th>25%</th>\n",
       "      <td>680.000000</td>\n",
       "      <td>2.000000</td>\n",
       "      <td>1.000000</td>\n",
       "      <td>2.900000e+06</td>\n",
       "    </tr>\n",
       "    <tr>\n",
       "      <th>50%</th>\n",
       "      <td>1000.000000</td>\n",
       "      <td>3.000000</td>\n",
       "      <td>2.000000</td>\n",
       "      <td>4.500000e+06</td>\n",
       "    </tr>\n",
       "    <tr>\n",
       "      <th>75%</th>\n",
       "      <td>1400.000000</td>\n",
       "      <td>5.000000</td>\n",
       "      <td>2.000000</td>\n",
       "      <td>7.000000e+06</td>\n",
       "    </tr>\n",
       "    <tr>\n",
       "      <th>max</th>\n",
       "      <td>2450.500000</td>\n",
       "      <td>60.000000</td>\n",
       "      <td>806.000000</td>\n",
       "      <td>4.000000e+08</td>\n",
       "    </tr>\n",
       "  </tbody>\n",
       "</table>\n",
       "</div>"
      ],
      "text/plain": [
       "       CARPET AREA (FT²)  TOTAL FLOORS      FLOOR NO    HOUSEPRICE\n",
       "count       11001.000000  11001.000000  11001.000000  1.100100e+04\n",
       "mean         1070.827425      4.063812      3.560676  6.353193e+06\n",
       "std           536.428335      4.062883     20.389819  1.030180e+07\n",
       "min           300.000000      0.000000      0.000000  2.000000e+05\n",
       "25%           680.000000      2.000000      1.000000  2.900000e+06\n",
       "50%          1000.000000      3.000000      2.000000  4.500000e+06\n",
       "75%          1400.000000      5.000000      2.000000  7.000000e+06\n",
       "max          2450.500000     60.000000    806.000000  4.000000e+08"
      ]
     },
     "execution_count": 46,
     "metadata": {},
     "output_type": "execute_result"
    }
   ],
   "source": [
    "df.describe()"
   ]
  },
  {
   "cell_type": "code",
   "execution_count": 47,
   "id": "002723aa",
   "metadata": {},
   "outputs": [
    {
     "name": "stderr",
     "output_type": "stream",
     "text": [
      "C:\\Users\\Pavan_Scottline\\anaconda3\\lib\\site-packages\\seaborn\\_decorators.py:36: FutureWarning: Pass the following variable as a keyword arg: x. From version 0.12, the only valid positional argument will be `data`, and passing other arguments without an explicit keyword will result in an error or misinterpretation.\n",
      "  warnings.warn(\n"
     ]
    },
    {
     "data": {
      "text/plain": [
       "<AxesSubplot:xlabel='TOTAL FLOORS'>"
      ]
     },
     "execution_count": 47,
     "metadata": {},
     "output_type": "execute_result"
    },
    {
     "data": {
      "image/png": "[encoded data removed]",
      "text/plain": [
       "<Figure size 432x288 with 1 Axes>"
      ]
     },
     "metadata": {
      "needs_background": "light"
     },
     "output_type": "display_data"
    }
   ],
   "source": [
    "tf=outr.ArbitraryOutlierCapper(max_capping_dict={\"TOTAL FLOORS\":9.0},\n",
    "                                min_capping_dict = {'TOTAL FLOORS':0.0})\n",
    "df['TOTAL FLOORS']=tf.fit_transform(df[['TOTAL FLOORS']])\n",
    "tf.right_tail_caps_ , tf.left_tail_caps_\n",
    "sns.boxplot(df[\"TOTAL FLOORS\"])"
   ]
  },
  {
   "cell_type": "code",
   "execution_count": 48,
   "id": "69a441aa",
   "metadata": {},
   "outputs": [
    {
     "name": "stderr",
     "output_type": "stream",
     "text": [
      "C:\\Users\\Pavan_Scottline\\anaconda3\\lib\\site-packages\\seaborn\\_decorators.py:36: FutureWarning: Pass the following variable as a keyword arg: x. From version 0.12, the only valid positional argument will be `data`, and passing other arguments without an explicit keyword will result in an error or misinterpretation.\n",
      "  warnings.warn(\n"
     ]
    },
    {
     "data": {
      "image/png": "[encoded data removed]",
      "text/plain": [
       "<Figure size 432x288 with 1 Axes>"
      ]
     },
     "metadata": {
      "needs_background": "light"
     },
     "output_type": "display_data"
    }
   ],
   "source": [
    "fn= outr.ArbitraryOutlierCapper(max_capping_dict={\"FLOOR NO\":3.0},\n",
    "                                min_capping_dict = {'FLOOR NO':0.0})\n",
    "df['FLOOR NO']=fn.fit_transform(df[['FLOOR NO']])\n",
    "\n",
    "fn.right_tail_caps_ , fn.left_tail_caps_\n",
    "\n",
    "sns.boxplot(df['FLOOR NO'])\n",
    "plt.show()"
   ]
  },
  {
   "cell_type": "code",
   "execution_count": 49,
   "id": "3b74123a",
   "metadata": {},
   "outputs": [
    {
     "data": {
      "text/plain": [
       "count    1.100100e+04\n",
       "mean     6.353193e+06\n",
       "std      1.030180e+07\n",
       "min      2.000000e+05\n",
       "25%      2.900000e+06\n",
       "50%      4.500000e+06\n",
       "75%      7.000000e+06\n",
       "max      4.000000e+08\n",
       "Name: HOUSEPRICE, dtype: float64"
      ]
     },
     "execution_count": 49,
     "metadata": {},
     "output_type": "execute_result"
    }
   ],
   "source": [
    "df[\"HOUSEPRICE\"].describe()"
   ]
  },
  {
   "cell_type": "code",
   "execution_count": 50,
   "id": "0a34747c",
   "metadata": {},
   "outputs": [],
   "source": [
    "#q1=df[\"HOUSEPRICE\"].quantile(0.25)"
   ]
  },
  {
   "cell_type": "code",
   "execution_count": 51,
   "id": "d0c4139b",
   "metadata": {},
   "outputs": [],
   "source": [
    "#q3=df[\"HOUSEPRICE\"].quantile(0.75)"
   ]
  },
  {
   "cell_type": "code",
   "execution_count": 52,
   "id": "6eb93cfb",
   "metadata": {},
   "outputs": [],
   "source": [
    "#iqr=q3-q1"
   ]
  },
  {
   "cell_type": "code",
   "execution_count": 53,
   "id": "be1a6a80",
   "metadata": {},
   "outputs": [],
   "source": [
    "#lower=q1-(1.5*iqr)\n"
   ]
  },
  {
   "cell_type": "code",
   "execution_count": 54,
   "id": "7b86a3bf",
   "metadata": {},
   "outputs": [],
   "source": [
    "#upper=q3+(1.5*iqr)"
   ]
  },
  {
   "cell_type": "code",
   "execution_count": 55,
   "id": "909312cf",
   "metadata": {},
   "outputs": [],
   "source": [
    "#df[df[\"HOUSEPRICE\"]<lower]"
   ]
  },
  {
   "cell_type": "code",
   "execution_count": 56,
   "id": "eb1f7ce2",
   "metadata": {},
   "outputs": [],
   "source": [
    "#df[df[\"HOUSEPRICE\"]>upper]"
   ]
  },
  {
   "cell_type": "code",
   "execution_count": 57,
   "id": "bf917c95",
   "metadata": {
    "scrolled": true
   },
   "outputs": [],
   "source": [
    "#out_index=df[(df[\"HOUSEPRICE\"]<lower) | (df[\"HOUSEPRICE\"]>upper)].index"
   ]
  },
  {
   "cell_type": "code",
   "execution_count": 58,
   "id": "0b047879",
   "metadata": {},
   "outputs": [],
   "source": [
    "#df.drop(out_index,inplace=True)"
   ]
  },
  {
   "cell_type": "code",
   "execution_count": 59,
   "id": "d4a80bab",
   "metadata": {},
   "outputs": [
    {
     "name": "stderr",
     "output_type": "stream",
     "text": [
      "<ipython-input-59-d552863a38a2>:1: FutureWarning: The default value of regex will change from True to False in a future version.\n",
      "  df[\"TYPE\"]=df[\"TYPE\"].str.replace(r\"\\W\",'')\n"
     ]
    }
   ],
   "source": [
    "df[\"TYPE\"]=df[\"TYPE\"].str.replace(r\"\\W\",'')"
   ]
  },
  {
   "cell_type": "code",
   "execution_count": 60,
   "id": "fe9aeb0e",
   "metadata": {},
   "outputs": [
    {
     "name": "stderr",
     "output_type": "stream",
     "text": [
      "<ipython-input-60-4b587f1e1b34>:1: FutureWarning: The default value of regex will change from True to False in a future version.\n",
      "  df[\"FURNISHING\"]=df[\"FURNISHING\"].str.replace(r\"\\W\",\"\")\n"
     ]
    }
   ],
   "source": [
    "df[\"FURNISHING\"]=df[\"FURNISHING\"].str.replace(r\"\\W\",\"\")"
   ]
  },
  {
   "cell_type": "code",
   "execution_count": 61,
   "id": "b966c5bf",
   "metadata": {},
   "outputs": [
    {
     "name": "stderr",
     "output_type": "stream",
     "text": [
      "<ipython-input-61-130a4f4a4663>:1: FutureWarning: The default value of regex will change from True to False in a future version.\n",
      "  df[\"CAR PARKING\"]=df[\"CAR PARKING\"].str.replace(r\"\\W\",\".5\")\n"
     ]
    }
   ],
   "source": [
    "df[\"CAR PARKING\"]=df[\"CAR PARKING\"].str.replace(r\"\\W\",\".5\")"
   ]
  },
  {
   "cell_type": "code",
   "execution_count": 62,
   "id": "df0eba4e",
   "metadata": {
    "scrolled": true
   },
   "outputs": [
    {
     "name": "stderr",
     "output_type": "stream",
     "text": [
      "<ipython-input-62-81249a21ec79>:1: FutureWarning: The default value of regex will change from True to False in a future version.\n",
      "  df[\"BEDROOMS\"]=df[\"BEDROOMS\"].str.replace(r\"\\W\",\".5\")\n"
     ]
    }
   ],
   "source": [
    "df[\"BEDROOMS\"]=df[\"BEDROOMS\"].str.replace(r\"\\W\",\".5\")"
   ]
  },
  {
   "cell_type": "code",
   "execution_count": 63,
   "id": "87eceaa3",
   "metadata": {},
   "outputs": [
    {
     "name": "stderr",
     "output_type": "stream",
     "text": [
      "<ipython-input-63-c671896f6773>:1: FutureWarning: The default value of regex will change from True to False in a future version.\n",
      "  df[\"BATHROOMS\"]=df[\"BATHROOMS\"].str.replace(r\"\\W\",\".5\")\n"
     ]
    }
   ],
   "source": [
    "df[\"BATHROOMS\"]=df[\"BATHROOMS\"].str.replace(r\"\\W\",\".5\")"
   ]
  },
  {
   "cell_type": "code",
   "execution_count": 64,
   "id": "6e72d49d",
   "metadata": {},
   "outputs": [],
   "source": [
    "df[\"HOUSEPRICE\"]=np.log(df[\"HOUSEPRICE\"])"
   ]
  },
  {
   "cell_type": "code",
   "execution_count": 65,
   "id": "8ac51091",
   "metadata": {},
   "outputs": [],
   "source": [
    "df1=pd.get_dummies(df[\"TYPE\"])"
   ]
  },
  {
   "cell_type": "code",
   "execution_count": 63,
   "id": "c7aad034",
   "metadata": {},
   "outputs": [],
   "source": [
    "df2=pd.get_dummies(df[\"FURNISHING\"])"
   ]
  },
  {
   "cell_type": "code",
   "execution_count": 64,
   "id": "fba8fa14",
   "metadata": {},
   "outputs": [],
   "source": [
    "df3=pd.get_dummies(df[\"CONSTRUCTION STATUS\"])"
   ]
  },
  {
   "cell_type": "code",
   "execution_count": 65,
   "id": "46dc5828",
   "metadata": {},
   "outputs": [],
   "source": [
    "df4=pd.get_dummies(df[\"LISTED BY\"])"
   ]
  },
  {
   "cell_type": "code",
   "execution_count": 66,
   "id": "52f1b45e",
   "metadata": {},
   "outputs": [
    {
     "name": "stderr",
     "output_type": "stream",
     "text": [
      "<ipython-input-66-71b678ba36a4>:1: FutureWarning: The default value of regex will change from True to False in a future version.\n",
      "  df[\"FACING\"]=df[\"FACING\"].str.replace(r\"\\W\",\"\")\n"
     ]
    }
   ],
   "source": [
    "df[\"FACING\"]=df[\"FACING\"].str.replace(r\"\\W\",\"\")"
   ]
  },
  {
   "cell_type": "code",
   "execution_count": 67,
   "id": "90f8eaf8",
   "metadata": {},
   "outputs": [],
   "source": [
    "df5=pd.get_dummies(df[\"FACING\"])"
   ]
  },
  {
   "cell_type": "code",
   "execution_count": 68,
   "id": "a4d5a77c",
   "metadata": {},
   "outputs": [],
   "source": [
    "df6=pd.get_dummies(df[\"LOCALITY\"])"
   ]
  },
  {
   "cell_type": "code",
   "execution_count": 69,
   "id": "f3364f64",
   "metadata": {},
   "outputs": [],
   "source": [
    "df7=pd.get_dummies(df[\"STATE\"])"
   ]
  },
  {
   "cell_type": "code",
   "execution_count": 70,
   "id": "d08c604a",
   "metadata": {},
   "outputs": [],
   "source": [
    "df_e=pd.concat([df1,df2,df3,df4,df5,df6,df7],axis=1)"
   ]
  },
  {
   "cell_type": "code",
   "execution_count": 71,
   "id": "52081744",
   "metadata": {},
   "outputs": [],
   "source": [
    "df=pd.concat([df,df_e],axis=1)"
   ]
  },
  {
   "cell_type": "code",
   "execution_count": 72,
   "id": "d609308b",
   "metadata": {},
   "outputs": [],
   "source": [
    "df.drop(\"TYPE\",axis=1,inplace=True)"
   ]
  },
  {
   "cell_type": "code",
   "execution_count": 73,
   "id": "9b7066cb",
   "metadata": {},
   "outputs": [],
   "source": [
    "df.drop(\"FURNISHING\",axis=1,inplace=True)"
   ]
  },
  {
   "cell_type": "code",
   "execution_count": 74,
   "id": "19c97502",
   "metadata": {},
   "outputs": [],
   "source": [
    "df.drop(\"CONSTRUCTION STATUS\",axis=1,inplace=True)"
   ]
  },
  {
   "cell_type": "code",
   "execution_count": 75,
   "id": "f89f51f6",
   "metadata": {},
   "outputs": [],
   "source": [
    "df.drop(\"LISTED BY\",axis=1,inplace=True)"
   ]
  },
  {
   "cell_type": "code",
   "execution_count": 76,
   "id": "0511d236",
   "metadata": {},
   "outputs": [],
   "source": [
    "df.drop(\"FACING\",axis=1,inplace=True)"
   ]
  },
  {
   "cell_type": "code",
   "execution_count": 77,
   "id": "dd5771bb",
   "metadata": {},
   "outputs": [],
   "source": [
    "df.drop(\"LOCALITY\",axis=1,inplace=True)"
   ]
  },
  {
   "cell_type": "code",
   "execution_count": 78,
   "id": "77ba60a6",
   "metadata": {},
   "outputs": [],
   "source": [
    "df.drop(\"STATE\",axis=1,inplace=True)"
   ]
  },
  {
   "cell_type": "code",
   "execution_count": 66,
   "id": "d4910e02",
   "metadata": {},
   "outputs": [
    {
     "data": {
      "text/html": [
       "<div>\n",
       "<style scoped>\n",
       "    .dataframe tbody tr th:only-of-type {\n",
       "        vertical-align: middle;\n",
       "    }\n",
       "\n",
       "    .dataframe tbody tr th {\n",
       "        vertical-align: top;\n",
       "    }\n",
       "\n",
       "    .dataframe thead th {\n",
       "        text-align: right;\n",
       "    }\n",
       "</style>\n",
       "<table border=\"1\" class=\"dataframe\">\n",
       "  <thead>\n",
       "    <tr style=\"text-align: right;\">\n",
       "      <th></th>\n",
       "      <th>TYPE</th>\n",
       "      <th>BEDROOMS</th>\n",
       "      <th>BATHROOMS</th>\n",
       "      <th>FURNISHING</th>\n",
       "      <th>CONSTRUCTION STATUS</th>\n",
       "      <th>LISTED BY</th>\n",
       "      <th>CARPET AREA (FT²)</th>\n",
       "      <th>TOTAL FLOORS</th>\n",
       "      <th>CAR PARKING</th>\n",
       "      <th>FACING</th>\n",
       "      <th>FLOOR NO</th>\n",
       "      <th>LOCALITY</th>\n",
       "      <th>STATE</th>\n",
       "      <th>HOUSEPRICE</th>\n",
       "    </tr>\n",
       "  </thead>\n",
       "  <tbody>\n",
       "    <tr>\n",
       "      <th>0</th>\n",
       "      <td>apartments</td>\n",
       "      <td>2</td>\n",
       "      <td>2</td>\n",
       "      <td>unfurnished</td>\n",
       "      <td>ready to move</td>\n",
       "      <td>owner</td>\n",
       "      <td>600.0</td>\n",
       "      <td>5.0</td>\n",
       "      <td>1</td>\n",
       "      <td>east</td>\n",
       "      <td>3.0</td>\n",
       "      <td>geetanjali city phase 2</td>\n",
       "      <td>chhattisgarh</td>\n",
       "      <td>14.403297</td>\n",
       "    </tr>\n",
       "    <tr>\n",
       "      <th>1</th>\n",
       "      <td>apartments</td>\n",
       "      <td>2</td>\n",
       "      <td>2</td>\n",
       "      <td>furnished</td>\n",
       "      <td>under construction</td>\n",
       "      <td>owner</td>\n",
       "      <td>300.0</td>\n",
       "      <td>9.0</td>\n",
       "      <td>2</td>\n",
       "      <td>east</td>\n",
       "      <td>3.0</td>\n",
       "      <td>doiwala</td>\n",
       "      <td>uttarakhand</td>\n",
       "      <td>14.880221</td>\n",
       "    </tr>\n",
       "    <tr>\n",
       "      <th>2</th>\n",
       "      <td>builderfloors</td>\n",
       "      <td>2</td>\n",
       "      <td>2</td>\n",
       "      <td>furnished</td>\n",
       "      <td>under construction</td>\n",
       "      <td>builder</td>\n",
       "      <td>300.0</td>\n",
       "      <td>6.0</td>\n",
       "      <td>1</td>\n",
       "      <td>north-east</td>\n",
       "      <td>3.0</td>\n",
       "      <td>subhash nagar</td>\n",
       "      <td>delhi</td>\n",
       "      <td>15.520259</td>\n",
       "    </tr>\n",
       "    <tr>\n",
       "      <th>3</th>\n",
       "      <td>housesvillas</td>\n",
       "      <td>4</td>\n",
       "      <td>4</td>\n",
       "      <td>semifurnished</td>\n",
       "      <td>ready to move</td>\n",
       "      <td>dealer</td>\n",
       "      <td>2400.0</td>\n",
       "      <td>2.0</td>\n",
       "      <td>1</td>\n",
       "      <td>north</td>\n",
       "      <td>2.0</td>\n",
       "      <td>kathgodam</td>\n",
       "      <td>uttarakhand</td>\n",
       "      <td>15.761421</td>\n",
       "    </tr>\n",
       "    <tr>\n",
       "      <th>4</th>\n",
       "      <td>housesvillas</td>\n",
       "      <td>3</td>\n",
       "      <td>2</td>\n",
       "      <td>furnished</td>\n",
       "      <td>new launch</td>\n",
       "      <td>owner</td>\n",
       "      <td>1500.0</td>\n",
       "      <td>1.0</td>\n",
       "      <td>1</td>\n",
       "      <td>east</td>\n",
       "      <td>1.0</td>\n",
       "      <td>maharana pratap chowk</td>\n",
       "      <td>chhattisgarh</td>\n",
       "      <td>15.176487</td>\n",
       "    </tr>\n",
       "  </tbody>\n",
       "</table>\n",
       "</div>"
      ],
      "text/plain": [
       "            TYPE BEDROOMS BATHROOMS     FURNISHING CONSTRUCTION STATUS  \\\n",
       "0     apartments        2         2    unfurnished       ready to move   \n",
       "1     apartments        2         2      furnished  under construction   \n",
       "2  builderfloors        2         2      furnished  under construction   \n",
       "3   housesvillas        4         4  semifurnished       ready to move   \n",
       "4   housesvillas        3         2      furnished          new launch   \n",
       "\n",
       "  LISTED BY  CARPET AREA (FT²)  TOTAL FLOORS CAR PARKING      FACING  \\\n",
       "0     owner              600.0           5.0           1        east   \n",
       "1     owner              300.0           9.0           2        east   \n",
       "2   builder              300.0           6.0           1  north-east   \n",
       "3    dealer             2400.0           2.0           1       north   \n",
       "4     owner             1500.0           1.0           1        east   \n",
       "\n",
       "   FLOOR NO                 LOCALITY         STATE  HOUSEPRICE  \n",
       "0       3.0  geetanjali city phase 2  chhattisgarh   14.403297  \n",
       "1       3.0                  doiwala   uttarakhand   14.880221  \n",
       "2       3.0            subhash nagar         delhi   15.520259  \n",
       "3       2.0                kathgodam   uttarakhand   15.761421  \n",
       "4       1.0    maharana pratap chowk  chhattisgarh   15.176487  "
      ]
     },
     "execution_count": 66,
     "metadata": {},
     "output_type": "execute_result"
    }
   ],
   "source": [
    "df.head()"
   ]
  },
  {
   "cell_type": "code",
   "execution_count": 80,
   "id": "5254674a",
   "metadata": {},
   "outputs": [
    {
     "data": {
      "text/html": [
       "<div>\n",
       "<style scoped>\n",
       "    .dataframe tbody tr th:only-of-type {\n",
       "        vertical-align: middle;\n",
       "    }\n",
       "\n",
       "    .dataframe tbody tr th {\n",
       "        vertical-align: top;\n",
       "    }\n",
       "\n",
       "    .dataframe thead th {\n",
       "        text-align: right;\n",
       "    }\n",
       "</style>\n",
       "<table border=\"1\" class=\"dataframe\">\n",
       "  <thead>\n",
       "    <tr style=\"text-align: right;\">\n",
       "      <th></th>\n",
       "      <th>BEDROOMS</th>\n",
       "      <th>BATHROOMS</th>\n",
       "      <th>CARPET AREA (FT²)</th>\n",
       "      <th>TOTAL FLOORS</th>\n",
       "      <th>CAR PARKING</th>\n",
       "      <th>FLOOR NO</th>\n",
       "      <th>HOUSEPRICE</th>\n",
       "      <th>apartments</th>\n",
       "      <th>builderfloors</th>\n",
       "      <th>farmhouses</th>\n",
       "      <th>housesvillas</th>\n",
       "    </tr>\n",
       "  </thead>\n",
       "  <tbody>\n",
       "    <tr>\n",
       "      <th>0</th>\n",
       "      <td>2</td>\n",
       "      <td>2</td>\n",
       "      <td>600.0</td>\n",
       "      <td>5.0</td>\n",
       "      <td>1</td>\n",
       "      <td>3.0</td>\n",
       "      <td>14.403297</td>\n",
       "      <td>1</td>\n",
       "      <td>0</td>\n",
       "      <td>0</td>\n",
       "      <td>0</td>\n",
       "    </tr>\n",
       "    <tr>\n",
       "      <th>1</th>\n",
       "      <td>2</td>\n",
       "      <td>2</td>\n",
       "      <td>300.0</td>\n",
       "      <td>9.0</td>\n",
       "      <td>2</td>\n",
       "      <td>3.0</td>\n",
       "      <td>14.880221</td>\n",
       "      <td>1</td>\n",
       "      <td>0</td>\n",
       "      <td>0</td>\n",
       "      <td>0</td>\n",
       "    </tr>\n",
       "    <tr>\n",
       "      <th>2</th>\n",
       "      <td>2</td>\n",
       "      <td>2</td>\n",
       "      <td>300.0</td>\n",
       "      <td>6.0</td>\n",
       "      <td>1</td>\n",
       "      <td>3.0</td>\n",
       "      <td>15.520259</td>\n",
       "      <td>0</td>\n",
       "      <td>1</td>\n",
       "      <td>0</td>\n",
       "      <td>0</td>\n",
       "    </tr>\n",
       "    <tr>\n",
       "      <th>3</th>\n",
       "      <td>4</td>\n",
       "      <td>4</td>\n",
       "      <td>2400.0</td>\n",
       "      <td>2.0</td>\n",
       "      <td>1</td>\n",
       "      <td>2.0</td>\n",
       "      <td>15.761421</td>\n",
       "      <td>0</td>\n",
       "      <td>0</td>\n",
       "      <td>0</td>\n",
       "      <td>1</td>\n",
       "    </tr>\n",
       "    <tr>\n",
       "      <th>4</th>\n",
       "      <td>3</td>\n",
       "      <td>2</td>\n",
       "      <td>1500.0</td>\n",
       "      <td>1.0</td>\n",
       "      <td>1</td>\n",
       "      <td>1.0</td>\n",
       "      <td>15.176487</td>\n",
       "      <td>0</td>\n",
       "      <td>0</td>\n",
       "      <td>0</td>\n",
       "      <td>1</td>\n",
       "    </tr>\n",
       "    <tr>\n",
       "      <th>...</th>\n",
       "      <td>...</td>\n",
       "      <td>...</td>\n",
       "      <td>...</td>\n",
       "      <td>...</td>\n",
       "      <td>...</td>\n",
       "      <td>...</td>\n",
       "      <td>...</td>\n",
       "      <td>...</td>\n",
       "      <td>...</td>\n",
       "      <td>...</td>\n",
       "      <td>...</td>\n",
       "    </tr>\n",
       "    <tr>\n",
       "      <th>11003</th>\n",
       "      <td>4</td>\n",
       "      <td>4</td>\n",
       "      <td>2340.0</td>\n",
       "      <td>3.0</td>\n",
       "      <td>3</td>\n",
       "      <td>2.0</td>\n",
       "      <td>17.950677</td>\n",
       "      <td>0</td>\n",
       "      <td>0</td>\n",
       "      <td>0</td>\n",
       "      <td>1</td>\n",
       "    </tr>\n",
       "    <tr>\n",
       "      <th>11004</th>\n",
       "      <td>3</td>\n",
       "      <td>3</td>\n",
       "      <td>1500.0</td>\n",
       "      <td>3.0</td>\n",
       "      <td>1</td>\n",
       "      <td>2.0</td>\n",
       "      <td>17.958645</td>\n",
       "      <td>0</td>\n",
       "      <td>0</td>\n",
       "      <td>0</td>\n",
       "      <td>1</td>\n",
       "    </tr>\n",
       "    <tr>\n",
       "      <th>11005</th>\n",
       "      <td>4</td>\n",
       "      <td>4</td>\n",
       "      <td>2450.5</td>\n",
       "      <td>3.0</td>\n",
       "      <td>1</td>\n",
       "      <td>2.0</td>\n",
       "      <td>18.064006</td>\n",
       "      <td>0</td>\n",
       "      <td>0</td>\n",
       "      <td>0</td>\n",
       "      <td>1</td>\n",
       "    </tr>\n",
       "    <tr>\n",
       "      <th>11006</th>\n",
       "      <td>4.5</td>\n",
       "      <td>4.5</td>\n",
       "      <td>2450.5</td>\n",
       "      <td>3.0</td>\n",
       "      <td>1</td>\n",
       "      <td>2.0</td>\n",
       "      <td>18.099097</td>\n",
       "      <td>0</td>\n",
       "      <td>0</td>\n",
       "      <td>0</td>\n",
       "      <td>1</td>\n",
       "    </tr>\n",
       "    <tr>\n",
       "      <th>11007</th>\n",
       "      <td>3</td>\n",
       "      <td>3</td>\n",
       "      <td>2450.5</td>\n",
       "      <td>3.0</td>\n",
       "      <td>2</td>\n",
       "      <td>2.0</td>\n",
       "      <td>18.258162</td>\n",
       "      <td>0</td>\n",
       "      <td>0</td>\n",
       "      <td>0</td>\n",
       "      <td>1</td>\n",
       "    </tr>\n",
       "  </tbody>\n",
       "</table>\n",
       "<p>11001 rows × 11 columns</p>\n",
       "</div>"
      ],
      "text/plain": [
       "      BEDROOMS BATHROOMS  CARPET AREA (FT²)  TOTAL FLOORS CAR PARKING  \\\n",
       "0            2         2              600.0           5.0           1   \n",
       "1            2         2              300.0           9.0           2   \n",
       "2            2         2              300.0           6.0           1   \n",
       "3            4         4             2400.0           2.0           1   \n",
       "4            3         2             1500.0           1.0           1   \n",
       "...        ...       ...                ...           ...         ...   \n",
       "11003        4         4             2340.0           3.0           3   \n",
       "11004        3         3             1500.0           3.0           1   \n",
       "11005        4         4             2450.5           3.0           1   \n",
       "11006      4.5       4.5             2450.5           3.0           1   \n",
       "11007        3         3             2450.5           3.0           2   \n",
       "\n",
       "       FLOOR NO  HOUSEPRICE  apartments  builderfloors  farmhouses  \\\n",
       "0           3.0   14.403297           1              0           0   \n",
       "1           3.0   14.880221           1              0           0   \n",
       "2           3.0   15.520259           0              1           0   \n",
       "3           2.0   15.761421           0              0           0   \n",
       "4           1.0   15.176487           0              0           0   \n",
       "...         ...         ...         ...            ...         ...   \n",
       "11003       2.0   17.950677           0              0           0   \n",
       "11004       2.0   17.958645           0              0           0   \n",
       "11005       2.0   18.064006           0              0           0   \n",
       "11006       2.0   18.099097           0              0           0   \n",
       "11007       2.0   18.258162           0              0           0   \n",
       "\n",
       "       housesvillas  \n",
       "0                 0  \n",
       "1                 0  \n",
       "2                 0  \n",
       "3                 1  \n",
       "4                 1  \n",
       "...             ...  \n",
       "11003             1  \n",
       "11004             1  \n",
       "11005             1  \n",
       "11006             1  \n",
       "11007             1  \n",
       "\n",
       "[11001 rows x 11 columns]"
      ]
     },
     "execution_count": 80,
     "metadata": {},
     "output_type": "execute_result"
    }
   ],
   "source": [
    "df.iloc[:,0:11]"
   ]
  },
  {
   "cell_type": "code",
   "execution_count": 67,
   "id": "61a023d3",
   "metadata": {},
   "outputs": [],
   "source": [
    "df[\"BEDROOMS\"]=pd.to_numeric(df[\"BEDROOMS\"])\n",
    "df[\"BATHROOMS\"]=pd.to_numeric(df[\"BATHROOMS\"])\n",
    "df[\"CAR PARKING\"]=pd.to_numeric(df[\"CAR PARKING\"])"
   ]
  },
  {
   "cell_type": "code",
   "execution_count": 68,
   "id": "f9b9a8bc",
   "metadata": {
    "scrolled": true
   },
   "outputs": [
    {
     "data": {
      "text/plain": [
       "TYPE                    object\n",
       "BEDROOMS               float64\n",
       "BATHROOMS              float64\n",
       "FURNISHING              object\n",
       "CONSTRUCTION STATUS     object\n",
       "LISTED BY               object\n",
       "CARPET AREA (FT²)      float64\n",
       "TOTAL FLOORS           float64\n",
       "CAR PARKING            float64\n",
       "FACING                  object\n",
       "FLOOR NO               float64\n",
       "LOCALITY                object\n",
       "STATE                   object\n",
       "HOUSEPRICE             float64\n",
       "dtype: object"
      ]
     },
     "execution_count": 68,
     "metadata": {},
     "output_type": "execute_result"
    }
   ],
   "source": [
    "df.dtypes"
   ]
  },
  {
   "cell_type": "markdown",
   "id": "6195a91e",
   "metadata": {},
   "source": [
    "# Seprating the Dependent or Independent Features"
   ]
  },
  {
   "cell_type": "code",
   "execution_count": 69,
   "id": "cfe8a98d",
   "metadata": {},
   "outputs": [],
   "source": [
    "X=df.drop(\"HOUSEPRICE\",axis=1)"
   ]
  },
  {
   "cell_type": "code",
   "execution_count": 70,
   "id": "657751cc",
   "metadata": {},
   "outputs": [],
   "source": [
    "y=df[\"HOUSEPRICE\"]"
   ]
  },
  {
   "cell_type": "code",
   "execution_count": 71,
   "id": "f96f43cb",
   "metadata": {},
   "outputs": [],
   "source": [
    "#Spliting the data into training_set and testing_set\n",
    "from sklearn.model_selection import train_test_split\n",
    "X_train,X_test,y_train,y_test=train_test_split(X,y,test_size=0.20,random_state=0)"
   ]
  },
  {
   "cell_type": "markdown",
   "id": "69ebab9b",
   "metadata": {},
   "source": [
    "# Modeling"
   ]
  },
  {
   "cell_type": "code",
   "execution_count": 72,
   "id": "d500f633",
   "metadata": {},
   "outputs": [],
   "source": [
    "from catboost import CatBoostRegressor"
   ]
  },
  {
   "cell_type": "code",
   "execution_count": 73,
   "id": "c5de9905",
   "metadata": {},
   "outputs": [
    {
     "data": {
      "application/vnd.jupyter.widget-view+json": {
       "model_id": "f1c22fb4bb4d4bb9b1898edb0c639a33",
       "version_major": 2,
       "version_minor": 0
      },
      "text/plain": [
       "MetricVisualizer(layout=Layout(align_self='stretch', height='500px'))"
      ]
     },
     "metadata": {},
     "output_type": "display_data"
    },
    {
     "name": "stdout",
     "output_type": "stream",
     "text": [
      "0:\tlearn: 0.0066692\ttest: 0.0071991\tbest: 0.0071991 (0)\ttotal: 349ms\tremaining: 2m 36s\n",
      "1:\tlearn: 0.0129477\ttest: 0.0136844\tbest: 0.0136844 (1)\ttotal: 613ms\tremaining: 2m 17s\n",
      "2:\tlearn: 0.0194497\ttest: 0.0204720\tbest: 0.0204720 (2)\ttotal: 895ms\tremaining: 2m 13s\n",
      "3:\tlearn: 0.0257787\ttest: 0.0269753\tbest: 0.0269753 (3)\ttotal: 1.47s\tremaining: 2m 43s\n",
      "4:\tlearn: 0.0323594\ttest: 0.0336762\tbest: 0.0336762 (4)\ttotal: 2.02s\tremaining: 2m 59s\n",
      "5:\tlearn: 0.0389833\ttest: 0.0407473\tbest: 0.0407473 (5)\ttotal: 2.31s\tremaining: 2m 51s\n",
      "6:\tlearn: 0.0451318\ttest: 0.0470126\tbest: 0.0470126 (6)\ttotal: 2.57s\tremaining: 2m 42s\n",
      "7:\tlearn: 0.0508927\ttest: 0.0532026\tbest: 0.0532026 (7)\ttotal: 2.79s\tremaining: 2m 33s\n",
      "8:\tlearn: 0.0572310\ttest: 0.0597872\tbest: 0.0597872 (8)\ttotal: 3.07s\tremaining: 2m 30s\n",
      "9:\tlearn: 0.0631481\ttest: 0.0656351\tbest: 0.0656351 (9)\ttotal: 3.3s\tremaining: 2m 25s\n",
      "10:\tlearn: 0.0691390\ttest: 0.0717864\tbest: 0.0717864 (10)\ttotal: 3.51s\tremaining: 2m 20s\n",
      "11:\tlearn: 0.0749860\ttest: 0.0778488\tbest: 0.0778488 (11)\ttotal: 3.71s\tremaining: 2m 15s\n",
      "12:\tlearn: 0.0805108\ttest: 0.0834122\tbest: 0.0834122 (12)\ttotal: 3.89s\tremaining: 2m 10s\n",
      "13:\tlearn: 0.0861268\ttest: 0.0891807\tbest: 0.0891807 (13)\ttotal: 4.13s\tremaining: 2m 8s\n",
      "14:\tlearn: 0.0915468\ttest: 0.0950961\tbest: 0.0950961 (14)\ttotal: 4.31s\tremaining: 2m 5s\n",
      "15:\tlearn: 0.0970435\ttest: 0.1010445\tbest: 0.1010445 (15)\ttotal: 4.51s\tremaining: 2m 2s\n",
      "16:\tlearn: 0.1025109\ttest: 0.1067024\tbest: 0.1067024 (16)\ttotal: 4.71s\tremaining: 2m\n",
      "17:\tlearn: 0.1079286\ttest: 0.1123275\tbest: 0.1123275 (17)\ttotal: 4.92s\tremaining: 1m 58s\n",
      "18:\tlearn: 0.1129744\ttest: 0.1175331\tbest: 0.1175331 (18)\ttotal: 5.12s\tremaining: 1m 56s\n",
      "19:\tlearn: 0.1178485\ttest: 0.1225204\tbest: 0.1225204 (19)\ttotal: 5.3s\tremaining: 1m 53s\n",
      "20:\tlearn: 0.1232050\ttest: 0.1279145\tbest: 0.1279145 (20)\ttotal: 5.5s\tremaining: 1m 52s\n",
      "21:\tlearn: 0.1283538\ttest: 0.1330465\tbest: 0.1330465 (21)\ttotal: 5.7s\tremaining: 1m 50s\n",
      "22:\tlearn: 0.1333003\ttest: 0.1381332\tbest: 0.1381332 (22)\ttotal: 5.88s\tremaining: 1m 49s\n",
      "23:\tlearn: 0.1381026\ttest: 0.1432540\tbest: 0.1432540 (23)\ttotal: 6.08s\tremaining: 1m 47s\n",
      "24:\tlearn: 0.1427985\ttest: 0.1481343\tbest: 0.1481343 (24)\ttotal: 6.25s\tremaining: 1m 46s\n",
      "25:\tlearn: 0.1474796\ttest: 0.1527551\tbest: 0.1527551 (25)\ttotal: 6.45s\tremaining: 1m 45s\n",
      "26:\tlearn: 0.1524062\ttest: 0.1580319\tbest: 0.1580319 (26)\ttotal: 6.64s\tremaining: 1m 44s\n",
      "27:\tlearn: 0.1569314\ttest: 0.1627564\tbest: 0.1627564 (27)\ttotal: 6.82s\tremaining: 1m 42s\n",
      "28:\tlearn: 0.1614483\ttest: 0.1674317\tbest: 0.1674317 (28)\ttotal: 6.97s\tremaining: 1m 41s\n",
      "29:\tlearn: 0.1658125\ttest: 0.1720189\tbest: 0.1720189 (29)\ttotal: 7.16s\tremaining: 1m 40s\n",
      "30:\tlearn: 0.1701984\ttest: 0.1768042\tbest: 0.1768042 (30)\ttotal: 7.36s\tremaining: 1m 39s\n",
      "31:\tlearn: 0.1744590\ttest: 0.1813907\tbest: 0.1813907 (31)\ttotal: 7.57s\tremaining: 1m 38s\n",
      "32:\tlearn: 0.1782538\ttest: 0.1853618\tbest: 0.1853618 (32)\ttotal: 7.84s\tremaining: 1m 39s\n",
      "33:\tlearn: 0.1822595\ttest: 0.1895442\tbest: 0.1895442 (33)\ttotal: 8.12s\tremaining: 1m 39s\n",
      "34:\tlearn: 0.1862125\ttest: 0.1934114\tbest: 0.1934114 (34)\ttotal: 8.42s\tremaining: 1m 39s\n",
      "35:\tlearn: 0.1900772\ttest: 0.1977119\tbest: 0.1977119 (35)\ttotal: 8.72s\tremaining: 1m 40s\n",
      "36:\tlearn: 0.1941180\ttest: 0.2018304\tbest: 0.2018304 (36)\ttotal: 8.95s\tremaining: 1m 39s\n",
      "37:\tlearn: 0.1982191\ttest: 0.2059458\tbest: 0.2059458 (37)\ttotal: 9.17s\tremaining: 1m 39s\n",
      "38:\tlearn: 0.2016513\ttest: 0.2094840\tbest: 0.2094840 (38)\ttotal: 9.37s\tremaining: 1m 38s\n",
      "39:\tlearn: 0.2055224\ttest: 0.2136898\tbest: 0.2136898 (39)\ttotal: 9.62s\tremaining: 1m 38s\n",
      "40:\tlearn: 0.2092554\ttest: 0.2176425\tbest: 0.2176425 (40)\ttotal: 9.81s\tremaining: 1m 37s\n",
      "41:\tlearn: 0.2128191\ttest: 0.2212633\tbest: 0.2212633 (41)\ttotal: 10s\tremaining: 1m 37s\n",
      "42:\tlearn: 0.2165496\ttest: 0.2249680\tbest: 0.2249680 (42)\ttotal: 10.2s\tremaining: 1m 36s\n",
      "43:\tlearn: 0.2202300\ttest: 0.2287186\tbest: 0.2287186 (43)\ttotal: 10.4s\tremaining: 1m 35s\n",
      "44:\tlearn: 0.2237890\ttest: 0.2321245\tbest: 0.2321245 (44)\ttotal: 10.6s\tremaining: 1m 35s\n",
      "45:\tlearn: 0.2274950\ttest: 0.2356869\tbest: 0.2356869 (45)\ttotal: 10.8s\tremaining: 1m 34s\n",
      "46:\tlearn: 0.2311194\ttest: 0.2391663\tbest: 0.2391663 (46)\ttotal: 11.1s\tremaining: 1m 34s\n",
      "47:\tlearn: 0.2345723\ttest: 0.2426914\tbest: 0.2426914 (47)\ttotal: 11.3s\tremaining: 1m 34s\n",
      "48:\tlearn: 0.2379223\ttest: 0.2458361\tbest: 0.2458361 (48)\ttotal: 11.5s\tremaining: 1m 34s\n",
      "49:\tlearn: 0.2409255\ttest: 0.2490338\tbest: 0.2490338 (49)\ttotal: 11.8s\tremaining: 1m 34s\n",
      "50:\tlearn: 0.2442533\ttest: 0.2522366\tbest: 0.2522366 (50)\ttotal: 12.1s\tremaining: 1m 34s\n",
      "51:\tlearn: 0.2471973\ttest: 0.2553987\tbest: 0.2553987 (51)\ttotal: 12.4s\tremaining: 1m 34s\n",
      "52:\tlearn: 0.2503746\ttest: 0.2586485\tbest: 0.2586485 (52)\ttotal: 12.8s\tremaining: 1m 35s\n",
      "53:\tlearn: 0.2534489\ttest: 0.2617937\tbest: 0.2617937 (53)\ttotal: 13s\tremaining: 1m 35s\n",
      "54:\tlearn: 0.2566394\ttest: 0.2649781\tbest: 0.2649781 (54)\ttotal: 13.4s\tremaining: 1m 35s\n",
      "55:\tlearn: 0.2596848\ttest: 0.2678383\tbest: 0.2678383 (55)\ttotal: 13.6s\tremaining: 1m 35s\n",
      "56:\tlearn: 0.2625211\ttest: 0.2707229\tbest: 0.2707229 (56)\ttotal: 13.9s\tremaining: 1m 35s\n",
      "57:\tlearn: 0.2654656\ttest: 0.2735410\tbest: 0.2735410 (57)\ttotal: 14.2s\tremaining: 1m 35s\n",
      "58:\tlearn: 0.2682193\ttest: 0.2763129\tbest: 0.2763129 (58)\ttotal: 14.4s\tremaining: 1m 35s\n",
      "59:\tlearn: 0.2708679\ttest: 0.2790727\tbest: 0.2790727 (59)\ttotal: 14.6s\tremaining: 1m 34s\n",
      "60:\tlearn: 0.2733960\ttest: 0.2817422\tbest: 0.2817422 (60)\ttotal: 14.9s\tremaining: 1m 34s\n",
      "61:\tlearn: 0.2763564\ttest: 0.2846084\tbest: 0.2846084 (61)\ttotal: 15.1s\tremaining: 1m 34s\n",
      "62:\tlearn: 0.2790829\ttest: 0.2872814\tbest: 0.2872814 (62)\ttotal: 15.3s\tremaining: 1m 34s\n",
      "63:\tlearn: 0.2815993\ttest: 0.2898466\tbest: 0.2898466 (63)\ttotal: 15.5s\tremaining: 1m 33s\n",
      "64:\tlearn: 0.2842406\ttest: 0.2921796\tbest: 0.2921796 (64)\ttotal: 15.8s\tremaining: 1m 33s\n",
      "65:\tlearn: 0.2868871\ttest: 0.2946318\tbest: 0.2946318 (65)\ttotal: 16s\tremaining: 1m 33s\n",
      "66:\tlearn: 0.2892467\ttest: 0.2970637\tbest: 0.2970637 (66)\ttotal: 16.2s\tremaining: 1m 32s\n",
      "67:\tlearn: 0.2917833\ttest: 0.2994263\tbest: 0.2994263 (67)\ttotal: 16.4s\tremaining: 1m 32s\n",
      "68:\tlearn: 0.2941093\ttest: 0.3018207\tbest: 0.3018207 (68)\ttotal: 16.7s\tremaining: 1m 32s\n",
      "69:\tlearn: 0.2965202\ttest: 0.3042283\tbest: 0.3042283 (69)\ttotal: 16.9s\tremaining: 1m 31s\n",
      "70:\tlearn: 0.2990779\ttest: 0.3065893\tbest: 0.3065893 (70)\ttotal: 17.2s\tremaining: 1m 31s\n",
      "71:\tlearn: 0.3013142\ttest: 0.3088084\tbest: 0.3088084 (71)\ttotal: 17.4s\tremaining: 1m 31s\n",
      "72:\tlearn: 0.3036601\ttest: 0.3111280\tbest: 0.3111280 (72)\ttotal: 17.6s\tremaining: 1m 30s\n",
      "73:\tlearn: 0.3060315\ttest: 0.3134426\tbest: 0.3134426 (73)\ttotal: 17.8s\tremaining: 1m 30s\n",
      "74:\tlearn: 0.3082749\ttest: 0.3157348\tbest: 0.3157348 (74)\ttotal: 18s\tremaining: 1m 30s\n",
      "75:\tlearn: 0.3104948\ttest: 0.3177536\tbest: 0.3177536 (75)\ttotal: 18.2s\tremaining: 1m 29s\n",
      "76:\tlearn: 0.3126393\ttest: 0.3200273\tbest: 0.3200273 (76)\ttotal: 18.3s\tremaining: 1m 28s\n",
      "77:\tlearn: 0.3148213\ttest: 0.3221358\tbest: 0.3221358 (77)\ttotal: 18.5s\tremaining: 1m 28s\n",
      "78:\tlearn: 0.3167894\ttest: 0.3240810\tbest: 0.3240810 (78)\ttotal: 18.7s\tremaining: 1m 27s\n",
      "79:\tlearn: 0.3190632\ttest: 0.3264737\tbest: 0.3264737 (79)\ttotal: 18.9s\tremaining: 1m 27s\n",
      "80:\tlearn: 0.3212714\ttest: 0.3285570\tbest: 0.3285570 (80)\ttotal: 19s\tremaining: 1m 26s\n",
      "81:\tlearn: 0.3235554\ttest: 0.3306515\tbest: 0.3306515 (81)\ttotal: 19.2s\tremaining: 1m 26s\n",
      "82:\tlearn: 0.3257477\ttest: 0.3326984\tbest: 0.3326984 (82)\ttotal: 19.4s\tremaining: 1m 25s\n",
      "83:\tlearn: 0.3277446\ttest: 0.3345421\tbest: 0.3345421 (83)\ttotal: 19.5s\tremaining: 1m 25s\n",
      "84:\tlearn: 0.3299209\ttest: 0.3366885\tbest: 0.3366885 (84)\ttotal: 19.7s\tremaining: 1m 24s\n",
      "85:\tlearn: 0.3317404\ttest: 0.3384619\tbest: 0.3384619 (85)\ttotal: 19.9s\tremaining: 1m 24s\n",
      "86:\tlearn: 0.3336820\ttest: 0.3402632\tbest: 0.3402632 (86)\ttotal: 20.1s\tremaining: 1m 23s\n",
      "87:\tlearn: 0.3356381\ttest: 0.3422552\tbest: 0.3422552 (87)\ttotal: 20.3s\tremaining: 1m 23s\n",
      "88:\tlearn: 0.3376316\ttest: 0.3442430\tbest: 0.3442430 (88)\ttotal: 20.5s\tremaining: 1m 23s\n",
      "89:\tlearn: 0.3394012\ttest: 0.3459579\tbest: 0.3459579 (89)\ttotal: 20.6s\tremaining: 1m 22s\n",
      "90:\tlearn: 0.3413797\ttest: 0.3477923\tbest: 0.3477923 (90)\ttotal: 20.8s\tremaining: 1m 22s\n",
      "91:\tlearn: 0.3428619\ttest: 0.3491496\tbest: 0.3491496 (91)\ttotal: 21s\tremaining: 1m 21s\n",
      "92:\tlearn: 0.3446494\ttest: 0.3507477\tbest: 0.3507477 (92)\ttotal: 21.1s\tremaining: 1m 21s\n"
     ]
    },
    {
     "name": "stdout",
     "output_type": "stream",
     "text": [
      "93:\tlearn: 0.3462957\ttest: 0.3524221\tbest: 0.3524221 (93)\ttotal: 21.3s\tremaining: 1m 20s\n",
      "94:\tlearn: 0.3479690\ttest: 0.3540580\tbest: 0.3540580 (94)\ttotal: 21.5s\tremaining: 1m 20s\n",
      "95:\tlearn: 0.3498080\ttest: 0.3557279\tbest: 0.3557279 (95)\ttotal: 21.7s\tremaining: 1m 20s\n",
      "96:\tlearn: 0.3514047\ttest: 0.3572611\tbest: 0.3572611 (96)\ttotal: 21.9s\tremaining: 1m 19s\n",
      "97:\tlearn: 0.3531694\ttest: 0.3589226\tbest: 0.3589226 (97)\ttotal: 22.1s\tremaining: 1m 19s\n",
      "98:\tlearn: 0.3547497\ttest: 0.3604993\tbest: 0.3604993 (98)\ttotal: 22.3s\tremaining: 1m 18s\n",
      "99:\tlearn: 0.3564036\ttest: 0.3619790\tbest: 0.3619790 (99)\ttotal: 22.5s\tremaining: 1m 18s\n",
      "100:\tlearn: 0.3579525\ttest: 0.3633698\tbest: 0.3633698 (100)\ttotal: 22.6s\tremaining: 1m 18s\n",
      "101:\tlearn: 0.3595742\ttest: 0.3649569\tbest: 0.3649569 (101)\ttotal: 22.8s\tremaining: 1m 17s\n",
      "102:\tlearn: 0.3612041\ttest: 0.3664320\tbest: 0.3664320 (102)\ttotal: 23s\tremaining: 1m 17s\n",
      "103:\tlearn: 0.3628871\ttest: 0.3680159\tbest: 0.3680159 (103)\ttotal: 23.2s\tremaining: 1m 17s\n",
      "104:\tlearn: 0.3643822\ttest: 0.3694329\tbest: 0.3694329 (104)\ttotal: 23.4s\tremaining: 1m 16s\n",
      "105:\tlearn: 0.3659321\ttest: 0.3710006\tbest: 0.3710006 (105)\ttotal: 23.5s\tremaining: 1m 16s\n",
      "106:\tlearn: 0.3674153\ttest: 0.3724611\tbest: 0.3724611 (106)\ttotal: 23.8s\tremaining: 1m 16s\n",
      "107:\tlearn: 0.3689949\ttest: 0.3739690\tbest: 0.3739690 (107)\ttotal: 24s\tremaining: 1m 15s\n",
      "108:\tlearn: 0.3705804\ttest: 0.3753299\tbest: 0.3753299 (108)\ttotal: 24.3s\tremaining: 1m 15s\n",
      "109:\tlearn: 0.3720569\ttest: 0.3766290\tbest: 0.3766290 (109)\ttotal: 24.5s\tremaining: 1m 15s\n",
      "110:\tlearn: 0.3735603\ttest: 0.3779446\tbest: 0.3779446 (110)\ttotal: 24.9s\tremaining: 1m 15s\n",
      "111:\tlearn: 0.3748990\ttest: 0.3791750\tbest: 0.3791750 (111)\ttotal: 25.2s\tremaining: 1m 15s\n",
      "112:\tlearn: 0.3761729\ttest: 0.3803527\tbest: 0.3803527 (112)\ttotal: 25.4s\tremaining: 1m 15s\n",
      "113:\tlearn: 0.3776442\ttest: 0.3817441\tbest: 0.3817441 (113)\ttotal: 25.6s\tremaining: 1m 15s\n",
      "114:\tlearn: 0.3790278\ttest: 0.3830579\tbest: 0.3830579 (114)\ttotal: 25.7s\tremaining: 1m 14s\n",
      "115:\tlearn: 0.3802384\ttest: 0.3840673\tbest: 0.3840673 (115)\ttotal: 25.9s\tremaining: 1m 14s\n",
      "116:\tlearn: 0.3816506\ttest: 0.3853873\tbest: 0.3853873 (116)\ttotal: 26.1s\tremaining: 1m 14s\n",
      "117:\tlearn: 0.3830578\ttest: 0.3867474\tbest: 0.3867474 (117)\ttotal: 26.3s\tremaining: 1m 13s\n",
      "118:\tlearn: 0.3842933\ttest: 0.3878835\tbest: 0.3878835 (118)\ttotal: 26.5s\tremaining: 1m 13s\n",
      "119:\tlearn: 0.3853775\ttest: 0.3887844\tbest: 0.3887844 (119)\ttotal: 26.7s\tremaining: 1m 13s\n",
      "120:\tlearn: 0.3865616\ttest: 0.3898714\tbest: 0.3898714 (120)\ttotal: 26.9s\tremaining: 1m 13s\n",
      "121:\tlearn: 0.3878376\ttest: 0.3910812\tbest: 0.3910812 (121)\ttotal: 27.1s\tremaining: 1m 12s\n",
      "122:\tlearn: 0.3892082\ttest: 0.3922398\tbest: 0.3922398 (122)\ttotal: 27.4s\tremaining: 1m 12s\n",
      "123:\tlearn: 0.3903846\ttest: 0.3933546\tbest: 0.3933546 (123)\ttotal: 27.6s\tremaining: 1m 12s\n",
      "124:\tlearn: 0.3915826\ttest: 0.3944203\tbest: 0.3944203 (124)\ttotal: 27.8s\tremaining: 1m 12s\n",
      "125:\tlearn: 0.3927968\ttest: 0.3955476\tbest: 0.3955476 (125)\ttotal: 28s\tremaining: 1m 11s\n",
      "126:\tlearn: 0.3939704\ttest: 0.3965960\tbest: 0.3965960 (126)\ttotal: 28.2s\tremaining: 1m 11s\n",
      "127:\tlearn: 0.3951851\ttest: 0.3976195\tbest: 0.3976195 (127)\ttotal: 28.4s\tremaining: 1m 11s\n",
      "128:\tlearn: 0.3964726\ttest: 0.3987461\tbest: 0.3987461 (128)\ttotal: 28.6s\tremaining: 1m 11s\n",
      "129:\tlearn: 0.3973985\ttest: 0.3995978\tbest: 0.3995978 (129)\ttotal: 28.8s\tremaining: 1m 10s\n",
      "130:\tlearn: 0.3983988\ttest: 0.4004658\tbest: 0.4004658 (130)\ttotal: 29s\tremaining: 1m 10s\n",
      "131:\tlearn: 0.3995528\ttest: 0.4015242\tbest: 0.4015242 (131)\ttotal: 29.2s\tremaining: 1m 10s\n",
      "132:\tlearn: 0.4006820\ttest: 0.4025379\tbest: 0.4025379 (132)\ttotal: 29.4s\tremaining: 1m 10s\n",
      "133:\tlearn: 0.4017673\ttest: 0.4033995\tbest: 0.4033995 (133)\ttotal: 29.6s\tremaining: 1m 9s\n",
      "134:\tlearn: 0.4029663\ttest: 0.4045227\tbest: 0.4045227 (134)\ttotal: 29.8s\tremaining: 1m 9s\n",
      "135:\tlearn: 0.4040302\ttest: 0.4053693\tbest: 0.4053693 (135)\ttotal: 30s\tremaining: 1m 9s\n",
      "136:\tlearn: 0.4050173\ttest: 0.4061603\tbest: 0.4061603 (136)\ttotal: 30.2s\tremaining: 1m 9s\n",
      "137:\tlearn: 0.4059311\ttest: 0.4068674\tbest: 0.4068674 (137)\ttotal: 30.4s\tremaining: 1m 8s\n",
      "138:\tlearn: 0.4069009\ttest: 0.4077813\tbest: 0.4077813 (138)\ttotal: 30.7s\tremaining: 1m 8s\n",
      "139:\tlearn: 0.4078059\ttest: 0.4085415\tbest: 0.4085415 (139)\ttotal: 31s\tremaining: 1m 8s\n",
      "140:\tlearn: 0.4088446\ttest: 0.4094223\tbest: 0.4094223 (140)\ttotal: 31.3s\tremaining: 1m 8s\n",
      "141:\tlearn: 0.4096892\ttest: 0.4100721\tbest: 0.4100721 (141)\ttotal: 31.5s\tremaining: 1m 8s\n",
      "142:\tlearn: 0.4106118\ttest: 0.4109638\tbest: 0.4109638 (142)\ttotal: 31.6s\tremaining: 1m 7s\n",
      "143:\tlearn: 0.4114647\ttest: 0.4115703\tbest: 0.4115703 (143)\ttotal: 31.8s\tremaining: 1m 7s\n",
      "144:\tlearn: 0.4124469\ttest: 0.4124141\tbest: 0.4124141 (144)\ttotal: 32s\tremaining: 1m 7s\n",
      "145:\tlearn: 0.4132355\ttest: 0.4131128\tbest: 0.4131128 (145)\ttotal: 32.2s\tremaining: 1m 6s\n",
      "146:\tlearn: 0.4140923\ttest: 0.4138719\tbest: 0.4138719 (146)\ttotal: 32.3s\tremaining: 1m 6s\n",
      "147:\tlearn: 0.4151624\ttest: 0.4148137\tbest: 0.4148137 (147)\ttotal: 32.5s\tremaining: 1m 6s\n",
      "148:\tlearn: 0.4159633\ttest: 0.4154309\tbest: 0.4154309 (148)\ttotal: 32.7s\tremaining: 1m 6s\n",
      "149:\tlearn: 0.4168751\ttest: 0.4162241\tbest: 0.4162241 (149)\ttotal: 32.9s\tremaining: 1m 5s\n",
      "150:\tlearn: 0.4177393\ttest: 0.4169425\tbest: 0.4169425 (150)\ttotal: 33.1s\tremaining: 1m 5s\n",
      "151:\tlearn: 0.4186890\ttest: 0.4177861\tbest: 0.4177861 (151)\ttotal: 33.2s\tremaining: 1m 5s\n",
      "152:\tlearn: 0.4195369\ttest: 0.4185484\tbest: 0.4185484 (152)\ttotal: 33.4s\tremaining: 1m 4s\n",
      "153:\tlearn: 0.4204649\ttest: 0.4194554\tbest: 0.4194554 (153)\ttotal: 33.6s\tremaining: 1m 4s\n",
      "154:\tlearn: 0.4214343\ttest: 0.4201918\tbest: 0.4201918 (154)\ttotal: 33.8s\tremaining: 1m 4s\n",
      "155:\tlearn: 0.4223261\ttest: 0.4209663\tbest: 0.4209663 (155)\ttotal: 33.9s\tremaining: 1m 3s\n",
      "156:\tlearn: 0.4231410\ttest: 0.4215942\tbest: 0.4215942 (156)\ttotal: 34.1s\tremaining: 1m 3s\n",
      "157:\tlearn: 0.4240154\ttest: 0.4222435\tbest: 0.4222435 (157)\ttotal: 34.3s\tremaining: 1m 3s\n",
      "158:\tlearn: 0.4248295\ttest: 0.4228846\tbest: 0.4228846 (158)\ttotal: 34.5s\tremaining: 1m 3s\n",
      "159:\tlearn: 0.4255697\ttest: 0.4235646\tbest: 0.4235646 (159)\ttotal: 34.7s\tremaining: 1m 2s\n",
      "160:\tlearn: 0.4263311\ttest: 0.4242063\tbest: 0.4242063 (160)\ttotal: 34.9s\tremaining: 1m 2s\n",
      "161:\tlearn: 0.4271163\ttest: 0.4249269\tbest: 0.4249269 (161)\ttotal: 35s\tremaining: 1m 2s\n",
      "162:\tlearn: 0.4279206\ttest: 0.4256101\tbest: 0.4256101 (162)\ttotal: 35.2s\tremaining: 1m 2s\n",
      "163:\tlearn: 0.4286539\ttest: 0.4261898\tbest: 0.4261898 (163)\ttotal: 35.4s\tremaining: 1m 1s\n",
      "164:\tlearn: 0.4294488\ttest: 0.4269489\tbest: 0.4269489 (164)\ttotal: 35.6s\tremaining: 1m 1s\n",
      "165:\tlearn: 0.4301015\ttest: 0.4276142\tbest: 0.4276142 (165)\ttotal: 35.8s\tremaining: 1m 1s\n",
      "166:\tlearn: 0.4309066\ttest: 0.4282640\tbest: 0.4282640 (166)\ttotal: 35.9s\tremaining: 1m\n",
      "167:\tlearn: 0.4315913\ttest: 0.4288854\tbest: 0.4288854 (167)\ttotal: 36.1s\tremaining: 1m\n",
      "168:\tlearn: 0.4324506\ttest: 0.4296622\tbest: 0.4296622 (168)\ttotal: 36.3s\tremaining: 1m\n",
      "169:\tlearn: 0.4330146\ttest: 0.4301910\tbest: 0.4301910 (169)\ttotal: 36.5s\tremaining: 1m\n",
      "170:\tlearn: 0.4336763\ttest: 0.4308100\tbest: 0.4308100 (170)\ttotal: 36.7s\tremaining: 59.8s\n",
      "171:\tlearn: 0.4344328\ttest: 0.4314509\tbest: 0.4314509 (171)\ttotal: 36.8s\tremaining: 59.6s\n",
      "172:\tlearn: 0.4353296\ttest: 0.4321329\tbest: 0.4321329 (172)\ttotal: 37s\tremaining: 59.3s\n",
      "173:\tlearn: 0.4360426\ttest: 0.4327043\tbest: 0.4327043 (173)\ttotal: 37.2s\tremaining: 59s\n",
      "174:\tlearn: 0.4367974\ttest: 0.4333464\tbest: 0.4333464 (174)\ttotal: 37.4s\tremaining: 58.7s\n",
      "175:\tlearn: 0.4373602\ttest: 0.4338270\tbest: 0.4338270 (175)\ttotal: 37.5s\tremaining: 58.4s\n",
      "176:\tlearn: 0.4379170\ttest: 0.4342509\tbest: 0.4342509 (176)\ttotal: 37.7s\tremaining: 58.2s\n",
      "177:\tlearn: 0.4387451\ttest: 0.4348818\tbest: 0.4348818 (177)\ttotal: 37.9s\tremaining: 57.9s\n",
      "178:\tlearn: 0.4393963\ttest: 0.4354091\tbest: 0.4354091 (178)\ttotal: 38.1s\tremaining: 57.7s\n",
      "179:\tlearn: 0.4400076\ttest: 0.4358857\tbest: 0.4358857 (179)\ttotal: 38.3s\tremaining: 57.4s\n",
      "180:\tlearn: 0.4405524\ttest: 0.4362647\tbest: 0.4362647 (180)\ttotal: 38.4s\tremaining: 57.1s\n",
      "181:\tlearn: 0.4411033\ttest: 0.4367017\tbest: 0.4367017 (181)\ttotal: 38.6s\tremaining: 56.8s\n",
      "182:\tlearn: 0.4416774\ttest: 0.4372280\tbest: 0.4372280 (182)\ttotal: 38.7s\tremaining: 56.5s\n",
      "183:\tlearn: 0.4421866\ttest: 0.4375531\tbest: 0.4375531 (183)\ttotal: 38.9s\tremaining: 56.3s\n",
      "184:\tlearn: 0.4427559\ttest: 0.4379178\tbest: 0.4379178 (184)\ttotal: 39.1s\tremaining: 56s\n",
      "185:\tlearn: 0.4433125\ttest: 0.4383154\tbest: 0.4383154 (185)\ttotal: 39.2s\tremaining: 55.7s\n"
     ]
    },
    {
     "name": "stdout",
     "output_type": "stream",
     "text": [
      "186:\tlearn: 0.4439396\ttest: 0.4387885\tbest: 0.4387885 (186)\ttotal: 39.4s\tremaining: 55.5s\n",
      "187:\tlearn: 0.4445508\ttest: 0.4392102\tbest: 0.4392102 (187)\ttotal: 39.6s\tremaining: 55.2s\n",
      "188:\tlearn: 0.4450865\ttest: 0.4396628\tbest: 0.4396628 (188)\ttotal: 39.8s\tremaining: 55s\n",
      "189:\tlearn: 0.4457638\ttest: 0.4401238\tbest: 0.4401238 (189)\ttotal: 40s\tremaining: 54.8s\n",
      "190:\tlearn: 0.4462926\ttest: 0.4405754\tbest: 0.4405754 (190)\ttotal: 40.2s\tremaining: 54.6s\n",
      "191:\tlearn: 0.4470032\ttest: 0.4410674\tbest: 0.4410674 (191)\ttotal: 40.5s\tremaining: 54.4s\n",
      "192:\tlearn: 0.4475582\ttest: 0.4415234\tbest: 0.4415234 (192)\ttotal: 40.7s\tremaining: 54.2s\n",
      "193:\tlearn: 0.4481244\ttest: 0.4419902\tbest: 0.4419902 (193)\ttotal: 40.9s\tremaining: 53.9s\n",
      "194:\tlearn: 0.4486403\ttest: 0.4423982\tbest: 0.4423982 (194)\ttotal: 41s\tremaining: 53.7s\n",
      "195:\tlearn: 0.4490799\ttest: 0.4427369\tbest: 0.4427369 (195)\ttotal: 41.2s\tremaining: 53.4s\n",
      "196:\tlearn: 0.4495585\ttest: 0.4430920\tbest: 0.4430920 (196)\ttotal: 41.4s\tremaining: 53.2s\n",
      "197:\tlearn: 0.4500861\ttest: 0.4435004\tbest: 0.4435004 (197)\ttotal: 41.6s\tremaining: 52.9s\n",
      "198:\tlearn: 0.4507719\ttest: 0.4440458\tbest: 0.4440458 (198)\ttotal: 41.8s\tremaining: 52.7s\n",
      "199:\tlearn: 0.4511934\ttest: 0.4443268\tbest: 0.4443268 (199)\ttotal: 41.9s\tremaining: 52.4s\n",
      "200:\tlearn: 0.4516174\ttest: 0.4445558\tbest: 0.4445558 (200)\ttotal: 42.1s\tremaining: 52.2s\n",
      "201:\tlearn: 0.4520710\ttest: 0.4449739\tbest: 0.4449739 (201)\ttotal: 42.3s\tremaining: 51.9s\n",
      "202:\tlearn: 0.4525909\ttest: 0.4454117\tbest: 0.4454117 (202)\ttotal: 42.5s\tremaining: 51.7s\n",
      "203:\tlearn: 0.4531273\ttest: 0.4458421\tbest: 0.4458421 (203)\ttotal: 42.7s\tremaining: 51.5s\n",
      "204:\tlearn: 0.4535820\ttest: 0.4461254\tbest: 0.4461254 (204)\ttotal: 42.9s\tremaining: 51.2s\n",
      "205:\tlearn: 0.4542086\ttest: 0.4467011\tbest: 0.4467011 (205)\ttotal: 43.1s\tremaining: 51s\n",
      "206:\tlearn: 0.4547396\ttest: 0.4471741\tbest: 0.4471741 (206)\ttotal: 43.2s\tremaining: 50.7s\n",
      "207:\tlearn: 0.4550919\ttest: 0.4474322\tbest: 0.4474322 (207)\ttotal: 43.4s\tremaining: 50.5s\n",
      "208:\tlearn: 0.4555967\ttest: 0.4478526\tbest: 0.4478526 (208)\ttotal: 43.6s\tremaining: 50.3s\n",
      "209:\tlearn: 0.4561219\ttest: 0.4482494\tbest: 0.4482494 (209)\ttotal: 43.8s\tremaining: 50s\n",
      "210:\tlearn: 0.4566973\ttest: 0.4486389\tbest: 0.4486389 (210)\ttotal: 43.9s\tremaining: 49.7s\n",
      "211:\tlearn: 0.4570484\ttest: 0.4489114\tbest: 0.4489114 (211)\ttotal: 44.1s\tremaining: 49.5s\n",
      "212:\tlearn: 0.4576729\ttest: 0.4492892\tbest: 0.4492892 (212)\ttotal: 44.3s\tremaining: 49.2s\n",
      "213:\tlearn: 0.4581290\ttest: 0.4496704\tbest: 0.4496704 (213)\ttotal: 44.5s\tremaining: 49s\n",
      "214:\tlearn: 0.4586210\ttest: 0.4500753\tbest: 0.4500753 (214)\ttotal: 44.6s\tremaining: 48.8s\n",
      "215:\tlearn: 0.4589716\ttest: 0.4504260\tbest: 0.4504260 (215)\ttotal: 44.8s\tremaining: 48.5s\n",
      "216:\tlearn: 0.4595050\ttest: 0.4507539\tbest: 0.4507539 (216)\ttotal: 45s\tremaining: 48.3s\n",
      "217:\tlearn: 0.4601322\ttest: 0.4512330\tbest: 0.4512330 (217)\ttotal: 45.1s\tremaining: 48s\n",
      "218:\tlearn: 0.4605751\ttest: 0.4515765\tbest: 0.4515765 (218)\ttotal: 45.3s\tremaining: 47.8s\n",
      "219:\tlearn: 0.4610156\ttest: 0.4519217\tbest: 0.4519217 (219)\ttotal: 45.5s\tremaining: 47.6s\n",
      "220:\tlearn: 0.4614496\ttest: 0.4522204\tbest: 0.4522204 (220)\ttotal: 45.7s\tremaining: 47.3s\n",
      "221:\tlearn: 0.4618405\ttest: 0.4525891\tbest: 0.4525891 (221)\ttotal: 45.8s\tremaining: 47.1s\n",
      "222:\tlearn: 0.4622111\ttest: 0.4528006\tbest: 0.4528006 (222)\ttotal: 46s\tremaining: 46.8s\n",
      "223:\tlearn: 0.4627100\ttest: 0.4531085\tbest: 0.4531085 (223)\ttotal: 46.3s\tremaining: 46.7s\n",
      "224:\tlearn: 0.4630194\ttest: 0.4533120\tbest: 0.4533120 (224)\ttotal: 46.5s\tremaining: 46.5s\n",
      "225:\tlearn: 0.4633618\ttest: 0.4536375\tbest: 0.4536375 (225)\ttotal: 46.7s\tremaining: 46.3s\n",
      "226:\tlearn: 0.4637800\ttest: 0.4539591\tbest: 0.4539591 (226)\ttotal: 46.9s\tremaining: 46.1s\n",
      "227:\tlearn: 0.4642795\ttest: 0.4542805\tbest: 0.4542805 (227)\ttotal: 47.1s\tremaining: 45.9s\n",
      "228:\tlearn: 0.4647089\ttest: 0.4546161\tbest: 0.4546161 (228)\ttotal: 47.3s\tremaining: 45.6s\n",
      "229:\tlearn: 0.4650697\ttest: 0.4549273\tbest: 0.4549273 (229)\ttotal: 47.5s\tremaining: 45.4s\n",
      "230:\tlearn: 0.4655854\ttest: 0.4553627\tbest: 0.4553627 (230)\ttotal: 47.6s\tremaining: 45.2s\n",
      "231:\tlearn: 0.4660024\ttest: 0.4557228\tbest: 0.4557228 (231)\ttotal: 47.8s\tremaining: 45s\n",
      "232:\tlearn: 0.4664312\ttest: 0.4560622\tbest: 0.4560622 (232)\ttotal: 48s\tremaining: 44.8s\n",
      "233:\tlearn: 0.4667984\ttest: 0.4563288\tbest: 0.4563288 (233)\ttotal: 48.3s\tremaining: 44.6s\n",
      "234:\tlearn: 0.4671096\ttest: 0.4566079\tbest: 0.4566079 (234)\ttotal: 48.6s\tremaining: 44.4s\n",
      "235:\tlearn: 0.4674131\ttest: 0.4568082\tbest: 0.4568082 (235)\ttotal: 48.8s\tremaining: 44.2s\n",
      "236:\tlearn: 0.4677309\ttest: 0.4569916\tbest: 0.4569916 (236)\ttotal: 49s\tremaining: 44s\n",
      "237:\tlearn: 0.4680496\ttest: 0.4571203\tbest: 0.4571203 (237)\ttotal: 49.2s\tremaining: 43.8s\n",
      "238:\tlearn: 0.4685403\ttest: 0.4574650\tbest: 0.4574650 (238)\ttotal: 49.4s\tremaining: 43.6s\n",
      "239:\tlearn: 0.4689407\ttest: 0.4577004\tbest: 0.4577004 (239)\ttotal: 49.7s\tremaining: 43.5s\n",
      "240:\tlearn: 0.4693484\ttest: 0.4579536\tbest: 0.4579536 (240)\ttotal: 49.9s\tremaining: 43.3s\n",
      "241:\tlearn: 0.4697130\ttest: 0.4581631\tbest: 0.4581631 (241)\ttotal: 50.2s\tremaining: 43.1s\n",
      "242:\tlearn: 0.4700970\ttest: 0.4583988\tbest: 0.4583988 (242)\ttotal: 50.5s\tremaining: 43s\n",
      "243:\tlearn: 0.4705485\ttest: 0.4586760\tbest: 0.4586760 (243)\ttotal: 50.7s\tremaining: 42.8s\n",
      "244:\tlearn: 0.4709120\ttest: 0.4588937\tbest: 0.4588937 (244)\ttotal: 50.9s\tremaining: 42.6s\n",
      "245:\tlearn: 0.4712816\ttest: 0.4591368\tbest: 0.4591368 (245)\ttotal: 51.2s\tremaining: 42.5s\n",
      "246:\tlearn: 0.4716411\ttest: 0.4593956\tbest: 0.4593956 (246)\ttotal: 51.5s\tremaining: 42.3s\n",
      "247:\tlearn: 0.4719986\ttest: 0.4596163\tbest: 0.4596163 (247)\ttotal: 51.7s\tremaining: 42.1s\n",
      "248:\tlearn: 0.4723721\ttest: 0.4598883\tbest: 0.4598883 (248)\ttotal: 51.9s\tremaining: 41.9s\n",
      "249:\tlearn: 0.4728083\ttest: 0.4602524\tbest: 0.4602524 (249)\ttotal: 52s\tremaining: 41.6s\n",
      "250:\tlearn: 0.4733045\ttest: 0.4605996\tbest: 0.4605996 (250)\ttotal: 52.3s\tremaining: 41.4s\n",
      "251:\tlearn: 0.4736617\ttest: 0.4608204\tbest: 0.4608204 (251)\ttotal: 52.4s\tremaining: 41.2s\n",
      "252:\tlearn: 0.4739447\ttest: 0.4610149\tbest: 0.4610149 (252)\ttotal: 52.6s\tremaining: 40.9s\n",
      "253:\tlearn: 0.4742724\ttest: 0.4611829\tbest: 0.4611829 (253)\ttotal: 52.8s\tremaining: 40.7s\n",
      "254:\tlearn: 0.4747181\ttest: 0.4615341\tbest: 0.4615341 (254)\ttotal: 53s\tremaining: 40.5s\n",
      "255:\tlearn: 0.4748842\ttest: 0.4617006\tbest: 0.4617006 (255)\ttotal: 53.1s\tremaining: 40.2s\n",
      "256:\tlearn: 0.4752333\ttest: 0.4619684\tbest: 0.4619684 (256)\ttotal: 53.3s\tremaining: 40s\n",
      "257:\tlearn: 0.4755534\ttest: 0.4621317\tbest: 0.4621317 (257)\ttotal: 53.5s\tremaining: 39.8s\n",
      "258:\tlearn: 0.4758077\ttest: 0.4622771\tbest: 0.4622771 (258)\ttotal: 53.7s\tremaining: 39.6s\n",
      "259:\tlearn: 0.4760225\ttest: 0.4624327\tbest: 0.4624327 (259)\ttotal: 53.8s\tremaining: 39.3s\n",
      "260:\tlearn: 0.4763451\ttest: 0.4626359\tbest: 0.4626359 (260)\ttotal: 54s\tremaining: 39.1s\n",
      "261:\tlearn: 0.4766383\ttest: 0.4629462\tbest: 0.4629462 (261)\ttotal: 54.2s\tremaining: 38.9s\n",
      "262:\tlearn: 0.4769537\ttest: 0.4631716\tbest: 0.4631716 (262)\ttotal: 54.4s\tremaining: 38.7s\n",
      "263:\tlearn: 0.4772605\ttest: 0.4634430\tbest: 0.4634430 (263)\ttotal: 54.6s\tremaining: 38.5s\n",
      "264:\tlearn: 0.4775567\ttest: 0.4636316\tbest: 0.4636316 (264)\ttotal: 54.8s\tremaining: 38.3s\n",
      "265:\tlearn: 0.4778509\ttest: 0.4638954\tbest: 0.4638954 (265)\ttotal: 55s\tremaining: 38s\n",
      "266:\tlearn: 0.4781452\ttest: 0.4641081\tbest: 0.4641081 (266)\ttotal: 55.1s\tremaining: 37.8s\n",
      "267:\tlearn: 0.4784666\ttest: 0.4643033\tbest: 0.4643033 (267)\ttotal: 55.3s\tremaining: 37.6s\n",
      "268:\tlearn: 0.4787832\ttest: 0.4645047\tbest: 0.4645047 (268)\ttotal: 55.5s\tremaining: 37.3s\n",
      "269:\tlearn: 0.4791077\ttest: 0.4646919\tbest: 0.4646919 (269)\ttotal: 55.7s\tremaining: 37.1s\n",
      "270:\tlearn: 0.4793767\ttest: 0.4649420\tbest: 0.4649420 (270)\ttotal: 55.9s\tremaining: 36.9s\n",
      "271:\tlearn: 0.4797947\ttest: 0.4651559\tbest: 0.4651559 (271)\ttotal: 56.1s\tremaining: 36.7s\n",
      "272:\tlearn: 0.4800299\ttest: 0.4653474\tbest: 0.4653474 (272)\ttotal: 56.3s\tremaining: 36.5s\n",
      "273:\tlearn: 0.4802971\ttest: 0.4655273\tbest: 0.4655273 (273)\ttotal: 56.5s\tremaining: 36.3s\n",
      "274:\tlearn: 0.4805890\ttest: 0.4656702\tbest: 0.4656702 (274)\ttotal: 56.7s\tremaining: 36.1s\n",
      "275:\tlearn: 0.4809019\ttest: 0.4658608\tbest: 0.4658608 (275)\ttotal: 56.9s\tremaining: 35.9s\n",
      "276:\tlearn: 0.4811811\ttest: 0.4660801\tbest: 0.4660801 (276)\ttotal: 57.1s\tremaining: 35.6s\n",
      "277:\tlearn: 0.4814344\ttest: 0.4662963\tbest: 0.4662963 (277)\ttotal: 57.3s\tremaining: 35.4s\n",
      "278:\tlearn: 0.4817410\ttest: 0.4664858\tbest: 0.4664858 (278)\ttotal: 57.4s\tremaining: 35.2s\n"
     ]
    },
    {
     "name": "stdout",
     "output_type": "stream",
     "text": [
      "279:\tlearn: 0.4819182\ttest: 0.4666043\tbest: 0.4666043 (279)\ttotal: 57.6s\tremaining: 35s\n",
      "280:\tlearn: 0.4822240\ttest: 0.4668339\tbest: 0.4668339 (280)\ttotal: 57.8s\tremaining: 34.8s\n",
      "281:\tlearn: 0.4824678\ttest: 0.4669927\tbest: 0.4669927 (281)\ttotal: 58s\tremaining: 34.5s\n",
      "282:\tlearn: 0.4828078\ttest: 0.4671741\tbest: 0.4671741 (282)\ttotal: 58.1s\tremaining: 34.3s\n",
      "283:\tlearn: 0.4830779\ttest: 0.4673449\tbest: 0.4673449 (283)\ttotal: 58.3s\tremaining: 34.1s\n",
      "284:\tlearn: 0.4832981\ttest: 0.4675516\tbest: 0.4675516 (284)\ttotal: 58.5s\tremaining: 33.9s\n",
      "285:\tlearn: 0.4835305\ttest: 0.4677042\tbest: 0.4677042 (285)\ttotal: 58.7s\tremaining: 33.6s\n",
      "286:\tlearn: 0.4837851\ttest: 0.4678014\tbest: 0.4678014 (286)\ttotal: 58.8s\tremaining: 33.4s\n",
      "287:\tlearn: 0.4840468\ttest: 0.4680427\tbest: 0.4680427 (287)\ttotal: 59s\tremaining: 33.2s\n",
      "288:\tlearn: 0.4842020\ttest: 0.4681382\tbest: 0.4681382 (288)\ttotal: 59.2s\tremaining: 33s\n",
      "289:\tlearn: 0.4844882\ttest: 0.4683317\tbest: 0.4683317 (289)\ttotal: 59.3s\tremaining: 32.7s\n",
      "290:\tlearn: 0.4847397\ttest: 0.4685053\tbest: 0.4685053 (290)\ttotal: 59.5s\tremaining: 32.5s\n",
      "291:\tlearn: 0.4849302\ttest: 0.4686060\tbest: 0.4686060 (291)\ttotal: 59.7s\tremaining: 32.3s\n",
      "292:\tlearn: 0.4851869\ttest: 0.4687508\tbest: 0.4687508 (292)\ttotal: 59.9s\tremaining: 32.1s\n",
      "293:\tlearn: 0.4853959\ttest: 0.4689477\tbest: 0.4689477 (293)\ttotal: 1m\tremaining: 31.9s\n",
      "294:\tlearn: 0.4856023\ttest: 0.4690964\tbest: 0.4690964 (294)\ttotal: 1m\tremaining: 31.6s\n",
      "295:\tlearn: 0.4857995\ttest: 0.4692153\tbest: 0.4692153 (295)\ttotal: 1m\tremaining: 31.4s\n",
      "296:\tlearn: 0.4859418\ttest: 0.4692844\tbest: 0.4692844 (296)\ttotal: 1m\tremaining: 31.2s\n",
      "297:\tlearn: 0.4861592\ttest: 0.4694191\tbest: 0.4694191 (297)\ttotal: 1m\tremaining: 31s\n",
      "298:\tlearn: 0.4863902\ttest: 0.4695713\tbest: 0.4695713 (298)\ttotal: 1m 1s\tremaining: 30.9s\n",
      "299:\tlearn: 0.4866572\ttest: 0.4697410\tbest: 0.4697410 (299)\ttotal: 1m 1s\tremaining: 30.8s\n",
      "300:\tlearn: 0.4868247\ttest: 0.4697808\tbest: 0.4697808 (300)\ttotal: 1m 1s\tremaining: 30.6s\n",
      "301:\tlearn: 0.4870858\ttest: 0.4699042\tbest: 0.4699042 (301)\ttotal: 1m 2s\tremaining: 30.4s\n",
      "302:\tlearn: 0.4873349\ttest: 0.4700938\tbest: 0.4700938 (302)\ttotal: 1m 2s\tremaining: 30.2s\n",
      "303:\tlearn: 0.4875374\ttest: 0.4701686\tbest: 0.4701686 (303)\ttotal: 1m 2s\tremaining: 30s\n",
      "304:\tlearn: 0.4876662\ttest: 0.4702211\tbest: 0.4702211 (304)\ttotal: 1m 2s\tremaining: 29.8s\n",
      "305:\tlearn: 0.4878456\ttest: 0.4703544\tbest: 0.4703544 (305)\ttotal: 1m 2s\tremaining: 29.5s\n",
      "306:\tlearn: 0.4880629\ttest: 0.4704746\tbest: 0.4704746 (306)\ttotal: 1m 2s\tremaining: 29.3s\n",
      "307:\tlearn: 0.4883394\ttest: 0.4705854\tbest: 0.4705854 (307)\ttotal: 1m 3s\tremaining: 29.1s\n",
      "308:\tlearn: 0.4885781\ttest: 0.4706866\tbest: 0.4706866 (308)\ttotal: 1m 3s\tremaining: 28.9s\n",
      "309:\tlearn: 0.4888154\ttest: 0.4708611\tbest: 0.4708611 (309)\ttotal: 1m 3s\tremaining: 28.7s\n",
      "310:\tlearn: 0.4889846\ttest: 0.4709623\tbest: 0.4709623 (310)\ttotal: 1m 3s\tremaining: 28.5s\n",
      "311:\tlearn: 0.4892376\ttest: 0.4711440\tbest: 0.4711440 (311)\ttotal: 1m 3s\tremaining: 28.2s\n",
      "312:\tlearn: 0.4894175\ttest: 0.4712548\tbest: 0.4712548 (312)\ttotal: 1m 4s\tremaining: 28s\n",
      "313:\tlearn: 0.4896331\ttest: 0.4713533\tbest: 0.4713533 (313)\ttotal: 1m 4s\tremaining: 27.8s\n",
      "314:\tlearn: 0.4899337\ttest: 0.4715656\tbest: 0.4715656 (314)\ttotal: 1m 4s\tremaining: 27.6s\n",
      "315:\tlearn: 0.4900831\ttest: 0.4717305\tbest: 0.4717305 (315)\ttotal: 1m 4s\tremaining: 27.4s\n",
      "316:\tlearn: 0.4903206\ttest: 0.4719197\tbest: 0.4719197 (316)\ttotal: 1m 4s\tremaining: 27.2s\n",
      "317:\tlearn: 0.4906262\ttest: 0.4720937\tbest: 0.4720937 (317)\ttotal: 1m 4s\tremaining: 26.9s\n",
      "318:\tlearn: 0.4907875\ttest: 0.4721649\tbest: 0.4721649 (318)\ttotal: 1m 5s\tremaining: 26.7s\n",
      "319:\tlearn: 0.4910062\ttest: 0.4723289\tbest: 0.4723289 (319)\ttotal: 1m 5s\tremaining: 26.5s\n",
      "320:\tlearn: 0.4912713\ttest: 0.4724755\tbest: 0.4724755 (320)\ttotal: 1m 5s\tremaining: 26.3s\n",
      "321:\tlearn: 0.4915271\ttest: 0.4726591\tbest: 0.4726591 (321)\ttotal: 1m 5s\tremaining: 26s\n",
      "322:\tlearn: 0.4916857\ttest: 0.4728015\tbest: 0.4728015 (322)\ttotal: 1m 5s\tremaining: 25.8s\n",
      "323:\tlearn: 0.4918289\ttest: 0.4728527\tbest: 0.4728527 (323)\ttotal: 1m 5s\tremaining: 25.6s\n",
      "324:\tlearn: 0.4920093\ttest: 0.4729443\tbest: 0.4729443 (324)\ttotal: 1m 5s\tremaining: 25.4s\n",
      "325:\tlearn: 0.4922243\ttest: 0.4730892\tbest: 0.4730892 (325)\ttotal: 1m 6s\tremaining: 25.1s\n",
      "326:\tlearn: 0.4924522\ttest: 0.4732747\tbest: 0.4732747 (326)\ttotal: 1m 6s\tremaining: 24.9s\n",
      "327:\tlearn: 0.4927254\ttest: 0.4734308\tbest: 0.4734308 (327)\ttotal: 1m 6s\tremaining: 24.7s\n",
      "328:\tlearn: 0.4929112\ttest: 0.4736327\tbest: 0.4736327 (328)\ttotal: 1m 6s\tremaining: 24.5s\n",
      "329:\tlearn: 0.4931261\ttest: 0.4736770\tbest: 0.4736770 (329)\ttotal: 1m 6s\tremaining: 24.3s\n",
      "330:\tlearn: 0.4933466\ttest: 0.4738006\tbest: 0.4738006 (330)\ttotal: 1m 6s\tremaining: 24.1s\n",
      "331:\tlearn: 0.4935296\ttest: 0.4739297\tbest: 0.4739297 (331)\ttotal: 1m 7s\tremaining: 23.9s\n",
      "332:\tlearn: 0.4937287\ttest: 0.4739896\tbest: 0.4739896 (332)\ttotal: 1m 7s\tremaining: 23.7s\n",
      "333:\tlearn: 0.4939938\ttest: 0.4741423\tbest: 0.4741423 (333)\ttotal: 1m 7s\tremaining: 23.5s\n",
      "334:\tlearn: 0.4941687\ttest: 0.4742407\tbest: 0.4742407 (334)\ttotal: 1m 7s\tremaining: 23.3s\n",
      "335:\tlearn: 0.4943912\ttest: 0.4743573\tbest: 0.4743573 (335)\ttotal: 1m 7s\tremaining: 23.1s\n",
      "336:\tlearn: 0.4946474\ttest: 0.4745293\tbest: 0.4745293 (336)\ttotal: 1m 8s\tremaining: 22.8s\n",
      "337:\tlearn: 0.4948011\ttest: 0.4746375\tbest: 0.4746375 (337)\ttotal: 1m 8s\tremaining: 22.6s\n",
      "338:\tlearn: 0.4950027\ttest: 0.4747446\tbest: 0.4747446 (338)\ttotal: 1m 8s\tremaining: 22.4s\n",
      "339:\tlearn: 0.4951251\ttest: 0.4747912\tbest: 0.4747912 (339)\ttotal: 1m 8s\tremaining: 22.2s\n",
      "340:\tlearn: 0.4952556\ttest: 0.4748574\tbest: 0.4748574 (340)\ttotal: 1m 8s\tremaining: 22s\n",
      "341:\tlearn: 0.4954594\ttest: 0.4749763\tbest: 0.4749763 (341)\ttotal: 1m 8s\tremaining: 21.8s\n",
      "342:\tlearn: 0.4956023\ttest: 0.4750270\tbest: 0.4750270 (342)\ttotal: 1m 9s\tremaining: 21.5s\n",
      "343:\tlearn: 0.4957942\ttest: 0.4750919\tbest: 0.4750919 (343)\ttotal: 1m 9s\tremaining: 21.3s\n",
      "344:\tlearn: 0.4959726\ttest: 0.4752552\tbest: 0.4752552 (344)\ttotal: 1m 9s\tremaining: 21.1s\n",
      "345:\tlearn: 0.4960933\ttest: 0.4753202\tbest: 0.4753202 (345)\ttotal: 1m 9s\tremaining: 20.9s\n",
      "346:\tlearn: 0.4962429\ttest: 0.4754052\tbest: 0.4754052 (346)\ttotal: 1m 9s\tremaining: 20.7s\n",
      "347:\tlearn: 0.4964403\ttest: 0.4755202\tbest: 0.4755202 (347)\ttotal: 1m 9s\tremaining: 20.5s\n",
      "348:\tlearn: 0.4965277\ttest: 0.4756024\tbest: 0.4756024 (348)\ttotal: 1m 10s\tremaining: 20.3s\n",
      "349:\tlearn: 0.4967259\ttest: 0.4756664\tbest: 0.4756664 (349)\ttotal: 1m 10s\tremaining: 20.1s\n",
      "350:\tlearn: 0.4968443\ttest: 0.4757909\tbest: 0.4757909 (350)\ttotal: 1m 10s\tremaining: 19.8s\n",
      "351:\tlearn: 0.4970721\ttest: 0.4757639\tbest: 0.4757909 (350)\ttotal: 1m 10s\tremaining: 19.6s\n",
      "352:\tlearn: 0.4972164\ttest: 0.4758501\tbest: 0.4758501 (352)\ttotal: 1m 10s\tremaining: 19.4s\n",
      "353:\tlearn: 0.4973020\ttest: 0.4758966\tbest: 0.4758966 (353)\ttotal: 1m 10s\tremaining: 19.2s\n",
      "354:\tlearn: 0.4974914\ttest: 0.4759752\tbest: 0.4759752 (354)\ttotal: 1m 10s\tremaining: 19s\n",
      "355:\tlearn: 0.4976000\ttest: 0.4760377\tbest: 0.4760377 (355)\ttotal: 1m 11s\tremaining: 18.8s\n",
      "356:\tlearn: 0.4978133\ttest: 0.4761776\tbest: 0.4761776 (356)\ttotal: 1m 11s\tremaining: 18.6s\n",
      "357:\tlearn: 0.4979466\ttest: 0.4762522\tbest: 0.4762522 (357)\ttotal: 1m 11s\tremaining: 18.4s\n",
      "358:\tlearn: 0.4980340\ttest: 0.4763021\tbest: 0.4763021 (358)\ttotal: 1m 11s\tremaining: 18.2s\n",
      "359:\tlearn: 0.4982029\ttest: 0.4763824\tbest: 0.4763824 (359)\ttotal: 1m 11s\tremaining: 18s\n",
      "360:\tlearn: 0.4983566\ttest: 0.4765554\tbest: 0.4765554 (360)\ttotal: 1m 11s\tremaining: 17.7s\n",
      "361:\tlearn: 0.4985630\ttest: 0.4766995\tbest: 0.4766995 (361)\ttotal: 1m 12s\tremaining: 17.6s\n",
      "362:\tlearn: 0.4987363\ttest: 0.4767464\tbest: 0.4767464 (362)\ttotal: 1m 12s\tremaining: 17.4s\n",
      "363:\tlearn: 0.4988152\ttest: 0.4768336\tbest: 0.4768336 (363)\ttotal: 1m 12s\tremaining: 17.2s\n",
      "364:\tlearn: 0.4989852\ttest: 0.4769439\tbest: 0.4769439 (364)\ttotal: 1m 12s\tremaining: 17s\n",
      "365:\tlearn: 0.4991349\ttest: 0.4770371\tbest: 0.4770371 (365)\ttotal: 1m 13s\tremaining: 16.8s\n",
      "366:\tlearn: 0.4992781\ttest: 0.4771379\tbest: 0.4771379 (366)\ttotal: 1m 13s\tremaining: 16.6s\n",
      "367:\tlearn: 0.4995091\ttest: 0.4772645\tbest: 0.4772645 (367)\ttotal: 1m 13s\tremaining: 16.4s\n",
      "368:\tlearn: 0.4996426\ttest: 0.4773884\tbest: 0.4773884 (368)\ttotal: 1m 13s\tremaining: 16.2s\n",
      "369:\tlearn: 0.4997311\ttest: 0.4774228\tbest: 0.4774228 (369)\ttotal: 1m 13s\tremaining: 16s\n",
      "370:\tlearn: 0.4999889\ttest: 0.4775794\tbest: 0.4775794 (370)\ttotal: 1m 14s\tremaining: 15.8s\n"
     ]
    },
    {
     "name": "stdout",
     "output_type": "stream",
     "text": [
      "371:\tlearn: 0.5001542\ttest: 0.4776359\tbest: 0.4776359 (371)\ttotal: 1m 14s\tremaining: 15.6s\n",
      "372:\tlearn: 0.5003188\ttest: 0.4777847\tbest: 0.4777847 (372)\ttotal: 1m 14s\tremaining: 15.4s\n",
      "373:\tlearn: 0.5004290\ttest: 0.4778334\tbest: 0.4778334 (373)\ttotal: 1m 14s\tremaining: 15.2s\n",
      "374:\tlearn: 0.5005380\ttest: 0.4779056\tbest: 0.4779056 (374)\ttotal: 1m 14s\tremaining: 14.9s\n",
      "375:\tlearn: 0.5006815\ttest: 0.4779868\tbest: 0.4779868 (375)\ttotal: 1m 14s\tremaining: 14.7s\n",
      "376:\tlearn: 0.5007757\ttest: 0.4780356\tbest: 0.4780356 (376)\ttotal: 1m 15s\tremaining: 14.5s\n",
      "377:\tlearn: 0.5010958\ttest: 0.4782303\tbest: 0.4782303 (377)\ttotal: 1m 15s\tremaining: 14.3s\n",
      "378:\tlearn: 0.5012851\ttest: 0.4782119\tbest: 0.4782303 (377)\ttotal: 1m 15s\tremaining: 14.1s\n",
      "379:\tlearn: 0.5014834\ttest: 0.4782998\tbest: 0.4782998 (379)\ttotal: 1m 15s\tremaining: 13.9s\n",
      "380:\tlearn: 0.5016166\ttest: 0.4783525\tbest: 0.4783525 (380)\ttotal: 1m 15s\tremaining: 13.7s\n",
      "381:\tlearn: 0.5017528\ttest: 0.4784636\tbest: 0.4784636 (381)\ttotal: 1m 15s\tremaining: 13.5s\n",
      "382:\tlearn: 0.5018575\ttest: 0.4785053\tbest: 0.4785053 (382)\ttotal: 1m 16s\tremaining: 13.3s\n",
      "383:\tlearn: 0.5019622\ttest: 0.4785113\tbest: 0.4785113 (383)\ttotal: 1m 16s\tremaining: 13.1s\n",
      "384:\tlearn: 0.5020650\ttest: 0.4785454\tbest: 0.4785454 (384)\ttotal: 1m 16s\tremaining: 12.9s\n",
      "385:\tlearn: 0.5021910\ttest: 0.4785788\tbest: 0.4785788 (385)\ttotal: 1m 16s\tremaining: 12.7s\n",
      "386:\tlearn: 0.5023417\ttest: 0.4786296\tbest: 0.4786296 (386)\ttotal: 1m 16s\tremaining: 12.5s\n",
      "387:\tlearn: 0.5024499\ttest: 0.4786838\tbest: 0.4786838 (387)\ttotal: 1m 16s\tremaining: 12.3s\n",
      "388:\tlearn: 0.5025420\ttest: 0.4787177\tbest: 0.4787177 (388)\ttotal: 1m 16s\tremaining: 12.1s\n",
      "389:\tlearn: 0.5026789\ttest: 0.4787833\tbest: 0.4787833 (389)\ttotal: 1m 17s\tremaining: 11.9s\n",
      "390:\tlearn: 0.5028380\ttest: 0.4788462\tbest: 0.4788462 (390)\ttotal: 1m 17s\tremaining: 11.6s\n",
      "391:\tlearn: 0.5030023\ttest: 0.4789190\tbest: 0.4789190 (391)\ttotal: 1m 17s\tremaining: 11.4s\n",
      "392:\tlearn: 0.5030983\ttest: 0.4790024\tbest: 0.4790024 (392)\ttotal: 1m 17s\tremaining: 11.2s\n",
      "393:\tlearn: 0.5032041\ttest: 0.4790317\tbest: 0.4790317 (393)\ttotal: 1m 17s\tremaining: 11s\n",
      "394:\tlearn: 0.5033535\ttest: 0.4791285\tbest: 0.4791285 (394)\ttotal: 1m 17s\tremaining: 10.8s\n",
      "395:\tlearn: 0.5034548\ttest: 0.4791841\tbest: 0.4791841 (395)\ttotal: 1m 17s\tremaining: 10.6s\n",
      "396:\tlearn: 0.5035621\ttest: 0.4792928\tbest: 0.4792928 (396)\ttotal: 1m 18s\tremaining: 10.4s\n",
      "397:\tlearn: 0.5036689\ttest: 0.4793447\tbest: 0.4793447 (397)\ttotal: 1m 18s\tremaining: 10.2s\n",
      "398:\tlearn: 0.5037962\ttest: 0.4793982\tbest: 0.4793982 (398)\ttotal: 1m 18s\tremaining: 10s\n",
      "399:\tlearn: 0.5039184\ttest: 0.4794801\tbest: 0.4794801 (399)\ttotal: 1m 18s\tremaining: 9.83s\n",
      "400:\tlearn: 0.5040541\ttest: 0.4796124\tbest: 0.4796124 (400)\ttotal: 1m 18s\tremaining: 9.63s\n",
      "401:\tlearn: 0.5042243\ttest: 0.4797249\tbest: 0.4797249 (401)\ttotal: 1m 18s\tremaining: 9.43s\n",
      "402:\tlearn: 0.5043380\ttest: 0.4797871\tbest: 0.4797871 (402)\ttotal: 1m 19s\tremaining: 9.23s\n",
      "403:\tlearn: 0.5043874\ttest: 0.4798327\tbest: 0.4798327 (403)\ttotal: 1m 19s\tremaining: 9.03s\n",
      "404:\tlearn: 0.5044430\ttest: 0.4798427\tbest: 0.4798427 (404)\ttotal: 1m 19s\tremaining: 8.82s\n",
      "405:\tlearn: 0.5045268\ttest: 0.4798503\tbest: 0.4798503 (405)\ttotal: 1m 19s\tremaining: 8.62s\n",
      "406:\tlearn: 0.5046846\ttest: 0.4799449\tbest: 0.4799449 (406)\ttotal: 1m 19s\tremaining: 8.43s\n",
      "407:\tlearn: 0.5048131\ttest: 0.4800229\tbest: 0.4800229 (407)\ttotal: 1m 19s\tremaining: 8.23s\n",
      "408:\tlearn: 0.5049891\ttest: 0.4800258\tbest: 0.4800258 (408)\ttotal: 1m 20s\tremaining: 8.03s\n",
      "409:\tlearn: 0.5050746\ttest: 0.4800667\tbest: 0.4800667 (409)\ttotal: 1m 20s\tremaining: 7.83s\n",
      "410:\tlearn: 0.5052819\ttest: 0.4802326\tbest: 0.4802326 (410)\ttotal: 1m 20s\tremaining: 7.63s\n",
      "411:\tlearn: 0.5053919\ttest: 0.4802601\tbest: 0.4802601 (411)\ttotal: 1m 20s\tremaining: 7.43s\n",
      "412:\tlearn: 0.5054581\ttest: 0.4802776\tbest: 0.4802776 (412)\ttotal: 1m 20s\tremaining: 7.23s\n",
      "413:\tlearn: 0.5055356\ttest: 0.4803247\tbest: 0.4803247 (413)\ttotal: 1m 20s\tremaining: 7.03s\n",
      "414:\tlearn: 0.5056514\ttest: 0.4803571\tbest: 0.4803571 (414)\ttotal: 1m 20s\tremaining: 6.83s\n",
      "415:\tlearn: 0.5057270\ttest: 0.4804440\tbest: 0.4804440 (415)\ttotal: 1m 21s\tremaining: 6.63s\n",
      "416:\tlearn: 0.5058440\ttest: 0.4804704\tbest: 0.4804704 (416)\ttotal: 1m 21s\tremaining: 6.43s\n",
      "417:\tlearn: 0.5059459\ttest: 0.4804833\tbest: 0.4804833 (417)\ttotal: 1m 21s\tremaining: 6.24s\n",
      "418:\tlearn: 0.5060760\ttest: 0.4805958\tbest: 0.4805958 (418)\ttotal: 1m 21s\tremaining: 6.04s\n",
      "419:\tlearn: 0.5062109\ttest: 0.4807282\tbest: 0.4807282 (419)\ttotal: 1m 21s\tremaining: 5.84s\n",
      "420:\tlearn: 0.5062518\ttest: 0.4807759\tbest: 0.4807759 (420)\ttotal: 1m 21s\tremaining: 5.64s\n",
      "421:\tlearn: 0.5063729\ttest: 0.4808285\tbest: 0.4808285 (421)\ttotal: 1m 22s\tremaining: 5.44s\n",
      "422:\tlearn: 0.5065727\ttest: 0.4809897\tbest: 0.4809897 (422)\ttotal: 1m 22s\tremaining: 5.25s\n",
      "423:\tlearn: 0.5066507\ttest: 0.4810621\tbest: 0.4810621 (423)\ttotal: 1m 22s\tremaining: 5.05s\n",
      "424:\tlearn: 0.5068262\ttest: 0.4811602\tbest: 0.4811602 (424)\ttotal: 1m 22s\tremaining: 4.85s\n",
      "425:\tlearn: 0.5070599\ttest: 0.4812287\tbest: 0.4812287 (425)\ttotal: 1m 22s\tremaining: 4.66s\n",
      "426:\tlearn: 0.5073055\ttest: 0.4813547\tbest: 0.4813547 (426)\ttotal: 1m 22s\tremaining: 4.47s\n",
      "427:\tlearn: 0.5074277\ttest: 0.4813845\tbest: 0.4813845 (427)\ttotal: 1m 23s\tremaining: 4.27s\n",
      "428:\tlearn: 0.5075326\ttest: 0.4814313\tbest: 0.4814313 (428)\ttotal: 1m 23s\tremaining: 4.08s\n",
      "429:\tlearn: 0.5076963\ttest: 0.4814979\tbest: 0.4814979 (429)\ttotal: 1m 23s\tremaining: 3.88s\n",
      "430:\tlearn: 0.5077422\ttest: 0.4815321\tbest: 0.4815321 (430)\ttotal: 1m 23s\tremaining: 3.68s\n",
      "431:\tlearn: 0.5079241\ttest: 0.4816122\tbest: 0.4816122 (431)\ttotal: 1m 23s\tremaining: 3.49s\n",
      "432:\tlearn: 0.5080727\ttest: 0.4817606\tbest: 0.4817606 (432)\ttotal: 1m 23s\tremaining: 3.29s\n",
      "433:\tlearn: 0.5081344\ttest: 0.4818227\tbest: 0.4818227 (433)\ttotal: 1m 23s\tremaining: 3.1s\n",
      "434:\tlearn: 0.5082380\ttest: 0.4818462\tbest: 0.4818462 (434)\ttotal: 1m 24s\tremaining: 2.9s\n",
      "435:\tlearn: 0.5083326\ttest: 0.4818430\tbest: 0.4818462 (434)\ttotal: 1m 24s\tremaining: 2.71s\n",
      "436:\tlearn: 0.5084156\ttest: 0.4818871\tbest: 0.4818871 (436)\ttotal: 1m 24s\tremaining: 2.51s\n",
      "437:\tlearn: 0.5085154\ttest: 0.4819258\tbest: 0.4819258 (437)\ttotal: 1m 24s\tremaining: 2.32s\n",
      "438:\tlearn: 0.5086806\ttest: 0.4820089\tbest: 0.4820089 (438)\ttotal: 1m 24s\tremaining: 2.13s\n",
      "439:\tlearn: 0.5087151\ttest: 0.4820414\tbest: 0.4820414 (439)\ttotal: 1m 24s\tremaining: 1.93s\n",
      "440:\tlearn: 0.5088946\ttest: 0.4820799\tbest: 0.4820799 (440)\ttotal: 1m 25s\tremaining: 1.74s\n",
      "441:\tlearn: 0.5090653\ttest: 0.4821212\tbest: 0.4821212 (441)\ttotal: 1m 25s\tremaining: 1.54s\n",
      "442:\tlearn: 0.5090848\ttest: 0.4821262\tbest: 0.4821262 (442)\ttotal: 1m 25s\tremaining: 1.35s\n",
      "443:\tlearn: 0.5091671\ttest: 0.4821641\tbest: 0.4821641 (443)\ttotal: 1m 25s\tremaining: 1.16s\n",
      "444:\tlearn: 0.5093210\ttest: 0.4822292\tbest: 0.4822292 (444)\ttotal: 1m 25s\tremaining: 964ms\n",
      "445:\tlearn: 0.5094252\ttest: 0.4822812\tbest: 0.4822812 (445)\ttotal: 1m 25s\tremaining: 771ms\n",
      "446:\tlearn: 0.5096045\ttest: 0.4822823\tbest: 0.4822823 (446)\ttotal: 1m 26s\tremaining: 578ms\n",
      "447:\tlearn: 0.5096720\ttest: 0.4823191\tbest: 0.4823191 (447)\ttotal: 1m 26s\tremaining: 385ms\n",
      "448:\tlearn: 0.5097519\ttest: 0.4823827\tbest: 0.4823827 (448)\ttotal: 1m 26s\tremaining: 193ms\n",
      "449:\tlearn: 0.5098249\ttest: 0.4824074\tbest: 0.4824074 (449)\ttotal: 1m 26s\tremaining: 0us\n",
      "\n",
      "bestTest = 0.4824074333\n",
      "bestIteration = 449\n",
      "\n"
     ]
    },
    {
     "data": {
      "text/plain": [
       "<catboost.core.CatBoostRegressor at 0x1570bbed340>"
      ]
     },
     "execution_count": 73,
     "metadata": {},
     "output_type": "execute_result"
    }
   ],
   "source": [
    "cat=[\"TYPE\",\"FURNISHING\",\"CONSTRUCTION STATUS\",\"LISTED BY\",\"FACING\",\"LOCALITY\",\"STATE\"]\n",
    "catboost=CatBoostRegressor(iterations=450,random_state=2010,od_type=\"Iter\",eval_metric=\"R2\",learning_rate=0.01,depth=6,l2_leaf_reg=5,\n",
    "                             bagging_temperature=2,border_count=255,grow_policy=\"Lossguide\",max_leaves=400)\n",
    "catboost.fit(X_train,y_train,cat_features=cat,eval_set=(X_test,y_test),plot=True)\n"
   ]
  },
  {
   "cell_type": "code",
   "execution_count": 74,
   "id": "9a88d9b3",
   "metadata": {},
   "outputs": [
    {
     "name": "stdout",
     "output_type": "stream",
     "text": [
      "0.5322760919794023\n",
      "0.4824074162340636\n"
     ]
    }
   ],
   "source": [
    "from sklearn.metrics import r2_score\n",
    "x_pre=catboost.predict(X_train)\n",
    "print(r2_score(y_train,x_pre))\n",
    "y_pre=catboost.predict((X_test))\n",
    "print(r2_score(y_test,y_pre))\n"
   ]
  },
  {
   "cell_type": "code",
   "execution_count": 75,
   "id": "a9483721",
   "metadata": {},
   "outputs": [],
   "source": [
    "import pickle\n",
    "filename = 'Houseprediction1.pkl'\n",
    "pickle.dump(catboost,open(filename,'wb'))"
   ]
  },
  {
   "cell_type": "markdown",
   "id": "383c3830",
   "metadata": {},
   "source": [
    "Linear Regression"
   ]
  },
  {
   "cell_type": "code",
   "execution_count": 86,
   "id": "520ed69d",
   "metadata": {},
   "outputs": [
    {
     "data": {
      "text/plain": [
       "LinearRegression()"
      ]
     },
     "execution_count": 86,
     "metadata": {},
     "output_type": "execute_result"
    }
   ],
   "source": [
    "from sklearn.linear_model import LinearRegression\n",
    "lr=LinearRegression()\n",
    "lr.fit(X_train,y_train)"
   ]
  },
  {
   "cell_type": "code",
   "execution_count": 87,
   "id": "dfccfb7d",
   "metadata": {},
   "outputs": [],
   "source": [
    "y_train_pre=lr.predict(X_train)"
   ]
  },
  {
   "cell_type": "code",
   "execution_count": 88,
   "id": "8cb272ff",
   "metadata": {},
   "outputs": [
    {
     "data": {
      "text/plain": [
       "array([15.49847329, 15.54653746, 15.58862865, ..., 15.30196762,\n",
       "       15.98594147, 15.71277815])"
      ]
     },
     "execution_count": 88,
     "metadata": {},
     "output_type": "execute_result"
    }
   ],
   "source": [
    "lr.predict(X_test)   "
   ]
  },
  {
   "cell_type": "code",
   "execution_count": 89,
   "id": "cd288b17",
   "metadata": {},
   "outputs": [],
   "source": [
    "from sklearn.metrics import r2_score"
   ]
  },
  {
   "cell_type": "code",
   "execution_count": 90,
   "id": "2ded8492",
   "metadata": {},
   "outputs": [
    {
     "data": {
      "text/plain": [
       "0.5726902598527583"
      ]
     },
     "execution_count": 90,
     "metadata": {},
     "output_type": "execute_result"
    }
   ],
   "source": [
    "r2_score(y_train, y_train_pre)"
   ]
  },
  {
   "cell_type": "code",
   "execution_count": 91,
   "id": "f8e8b780",
   "metadata": {},
   "outputs": [
    {
     "data": {
      "text/plain": [
       "-4.694886191813907e-06"
      ]
     },
     "execution_count": 91,
     "metadata": {},
     "output_type": "execute_result"
    }
   ],
   "source": [
    "X_test_pre=lr.predict(X_test)\n",
    "from sklearn.metrics import r2_score\n",
    "r2_score(X_test_pre,y_test)\n"
   ]
  },
  {
   "cell_type": "code",
   "execution_count": 92,
   "id": "00f367cb",
   "metadata": {},
   "outputs": [
    {
     "data": {
      "text/plain": [
       "DecisionTreeRegressor(random_state=0)"
      ]
     },
     "execution_count": 92,
     "metadata": {},
     "output_type": "execute_result"
    }
   ],
   "source": [
    "from sklearn.tree import DecisionTreeRegressor\n",
    "tree = DecisionTreeRegressor(random_state=0)\n",
    "tree.fit(X_train,y_train) "
   ]
  },
  {
   "cell_type": "code",
   "execution_count": 93,
   "id": "25507d6d",
   "metadata": {},
   "outputs": [
    {
     "data": {
      "text/plain": [
       "0.11069515970750166"
      ]
     },
     "execution_count": 93,
     "metadata": {},
     "output_type": "execute_result"
    }
   ],
   "source": [
    "y_pred_tree = tree.predict(X_test)\n",
    "from sklearn.metrics import r2_score\n",
    "r2_score(y_test, y_pred_tree)"
   ]
  },
  {
   "cell_type": "code",
   "execution_count": 94,
   "id": "03b27bd5",
   "metadata": {},
   "outputs": [
    {
     "data": {
      "text/plain": [
       "RandomForestRegressor(n_estimators=110, random_state=1)"
      ]
     },
     "execution_count": 94,
     "metadata": {},
     "output_type": "execute_result"
    }
   ],
   "source": [
    "from sklearn.ensemble import RandomForestRegressor\n",
    "forest = RandomForestRegressor(n_estimators=110,random_state=1)\n",
    "forest.fit(X_train,y_train)"
   ]
  },
  {
   "cell_type": "code",
   "execution_count": 95,
   "id": "59d6edba",
   "metadata": {},
   "outputs": [],
   "source": [
    "y_predict=forest.predict(X_test)\n",
    "y_predict_train=forest.predict(X_train)"
   ]
  },
  {
   "cell_type": "code",
   "execution_count": 96,
   "id": "4c38cd84",
   "metadata": {},
   "outputs": [],
   "source": [
    "from sklearn.metrics import r2_score"
   ]
  },
  {
   "cell_type": "code",
   "execution_count": 97,
   "id": "140ce13c",
   "metadata": {},
   "outputs": [
    {
     "name": "stdout",
     "output_type": "stream",
     "text": [
      "Random Forest Train r2_score 0.9185288177650854\n"
     ]
    }
   ],
   "source": [
    "print('Random Forest Train r2_score',r2_score(y_train,y_predict_train))"
   ]
  },
  {
   "cell_type": "code",
   "execution_count": 98,
   "id": "f22a429e",
   "metadata": {},
   "outputs": [
    {
     "name": "stdout",
     "output_type": "stream",
     "text": [
      "Random Forest Test r2_score 0.4845471363874382\n"
     ]
    }
   ],
   "source": [
    "print('Random Forest Test r2_score',r2_score(y_test,y_predict))"
   ]
  },
  {
   "cell_type": "code",
   "execution_count": 99,
   "id": "14994986",
   "metadata": {},
   "outputs": [
    {
     "data": {
      "text/plain": [
       "AdaBoostRegressor(learning_rate=0.05, loss='exponential', n_estimators=57)"
      ]
     },
     "execution_count": 99,
     "metadata": {},
     "output_type": "execute_result"
    }
   ],
   "source": [
    "from sklearn.ensemble import AdaBoostRegressor\n",
    "ada_boost = AdaBoostRegressor(n_estimators=57, learning_rate=0.05, loss='exponential')\n",
    "ada_boost.fit(X_train,y_train)"
   ]
  },
  {
   "cell_type": "code",
   "execution_count": 100,
   "id": "d2040b62",
   "metadata": {},
   "outputs": [
    {
     "name": "stdout",
     "output_type": "stream",
     "text": [
      "Ada Boost Test r2_score 0.27862295965774453\n",
      "Ada Boost Train r2_score 0.28477487606693774\n"
     ]
    }
   ],
   "source": [
    "y_pred_ada_boost = ada_boost.predict(X_test)\n",
    "y_pred_ada_train = ada_boost.predict(X_train)\n",
    "\n",
    "from sklearn.metrics import r2_score\n",
    "print('Ada Boost Test r2_score',r2_score(y_test, y_pred_ada_boost))\n",
    "print('Ada Boost Train r2_score',r2_score(y_train, y_pred_ada_train))"
   ]
  },
  {
   "cell_type": "code",
   "execution_count": 101,
   "id": "d6f0b46c",
   "metadata": {},
   "outputs": [
    {
     "data": {
      "text/plain": [
       "GradientBoostingRegressor(learning_rate=0.3, max_depth=6, n_estimators=247)"
      ]
     },
     "execution_count": 101,
     "metadata": {},
     "output_type": "execute_result"
    }
   ],
   "source": [
    "# Use Gradient Boost \n",
    "from sklearn.ensemble import GradientBoostingRegressor\n",
    "gb_m = GradientBoostingRegressor(n_estimators=247, max_depth=6, learning_rate=0.3)\n",
    "gb_m.fit(X_train,y_train)"
   ]
  },
  {
   "cell_type": "code",
   "execution_count": 102,
   "id": "f31fcce4",
   "metadata": {},
   "outputs": [
    {
     "name": "stdout",
     "output_type": "stream",
     "text": [
      "Gradirnt Boost Train r2_score 0.7624406860998929\n"
     ]
    }
   ],
   "source": [
    " y_pred_gb_train = gb_m.predict(X_train)\n",
    "from sklearn.metrics import r2_score\n",
    "print('Gradirnt Boost Train r2_score',r2_score(y_train, y_pred_gb_train))"
   ]
  },
  {
   "cell_type": "code",
   "execution_count": 103,
   "id": "3a840b8b",
   "metadata": {},
   "outputs": [
    {
     "name": "stdout",
     "output_type": "stream",
     "text": [
      "Gradirnt Boost Test r2_score 0.483064503538988\n"
     ]
    }
   ],
   "source": [
    "y_pred_gb = gb_m.predict(X_test)\n",
    "from sklearn.metrics import r2_score\n",
    "print('Gradirnt Boost Test r2_score',r2_score(y_test, y_pred_gb))"
   ]
  },
  {
   "cell_type": "code",
   "execution_count": 104,
   "id": "097439e7",
   "metadata": {},
   "outputs": [
    {
     "name": "stdout",
     "output_type": "stream",
     "text": [
      "Requirement already satisfied: xgboost in c:\\users\\pavan_scottline\\anaconda3\\lib\\site-packages (1.5.1)\n",
      "Requirement already satisfied: scipy in c:\\users\\pavan_scottline\\anaconda3\\lib\\site-packages (from xgboost) (1.6.2)\n",
      "Requirement already satisfied: numpy in c:\\users\\pavan_scottline\\anaconda3\\lib\\site-packages (from xgboost) (1.19.5)\n",
      "Note: you may need to restart the kernel to use updated packages.\n"
     ]
    }
   ],
   "source": [
    "pip install xgboost"
   ]
  },
  {
   "cell_type": "code",
   "execution_count": 105,
   "id": "f8b7bcea",
   "metadata": {
    "scrolled": true
   },
   "outputs": [
    {
     "data": {
      "text/plain": [
       "XGBRegressor(base_score=0.5, booster='gbtree', colsample_bylevel=1,\n",
       "             colsample_bynode=1, colsample_bytree=1, enable_categorical=False,\n",
       "             gamma=0, gpu_id=-1, importance_type=None,\n",
       "             interaction_constraints='', learning_rate=0.300000012,\n",
       "             max_delta_step=0, max_depth=6, min_child_weight=1, missing=nan,\n",
       "             monotone_constraints='()', n_estimators=100, n_jobs=4,\n",
       "             num_parallel_tree=1, predictor='auto', random_state=0, reg_alpha=0,\n",
       "             reg_lambda=1, scale_pos_weight=1, subsample=1, tree_method='exact',\n",
       "             validate_parameters=1, verbosity=None)"
      ]
     },
     "execution_count": 105,
     "metadata": {},
     "output_type": "execute_result"
    }
   ],
   "source": [
    "from xgboost import XGBRegressor\n",
    "xgbr = XGBRegressor()\n",
    "xgbr.fit(X_train,y_train)      "
   ]
  },
  {
   "cell_type": "code",
   "execution_count": 106,
   "id": "ddd892c9",
   "metadata": {},
   "outputs": [
    {
     "name": "stdout",
     "output_type": "stream",
     "text": [
      "Xtream Gradirnt Boost Train r2_score 0.6584712576360691\n",
      "Xtream Gradirnt Boost Test r2_score 0.49960551796245856\n"
     ]
    }
   ],
   "source": [
    "y_pre_train = xgbr.predict(X_train)\n",
    "y_pre_test = xgbr.predict(X_test)\n",
    "print('Xtream Gradirnt Boost Train r2_score',r2_score(y_train, y_pre_train))\n",
    "print('Xtream Gradirnt Boost Test r2_score',r2_score(y_test, y_pre_test))"
   ]
  },
  {
   "cell_type": "code",
   "execution_count": 107,
   "id": "0711834f",
   "metadata": {},
   "outputs": [],
   "source": [
    "import pickle\n",
    "filename = 'House prediction.pkl'\n",
    "pickle.dump(xgbr,open(filename,'wb'))"
   ]
  },
  {
   "cell_type": "code",
   "execution_count": 108,
   "id": "fedae52b",
   "metadata": {},
   "outputs": [
    {
     "data": {
      "text/plain": [
       "'C:\\\\Users\\\\Pavan_Scottline\\\\Machine Learning\\\\Regression'"
      ]
     },
     "execution_count": 108,
     "metadata": {},
     "output_type": "execute_result"
    }
   ],
   "source": [
    "pwd"
   ]
  },
  {
   "cell_type": "code",
   "execution_count": 111,
   "id": "fb8f5daf",
   "metadata": {},
   "outputs": [
    {
     "name": "stderr",
     "output_type": "stream",
     "text": [
      "ERROR: Could not install packages due to an OSError: [WinError 32] The process cannot access the file because it is being used by another process: 'C:\\\\Users\\\\Pavan_Scottline\\\\anaconda3\\\\Lib\\\\site-packages\\\\plotly\\\\validators\\\\densitymapbox\\\\colorbar\\\\tickformatstop\\\\__init__.py'\n",
      "Consider using the `--user` option or check the permissions.\n",
      "\n"
     ]
    },
    {
     "name": "stdout",
     "output_type": "stream",
     "text": [
      "Collecting CatBoost\n",
      "  Downloading catboost-1.0.4-cp38-none-win_amd64.whl (73.5 MB)\n",
      "Requirement already satisfied: matplotlib in c:\\users\\pavan_scottline\\anaconda3\\lib\\site-packages (from CatBoost) (3.3.4)\n",
      "Collecting plotly\n",
      "  Using cached plotly-5.5.0-py2.py3-none-any.whl (26.5 MB)\n",
      "Requirement already satisfied: pandas>=0.24.0 in c:\\users\\pavan_scottline\\anaconda3\\lib\\site-packages (from CatBoost) (1.2.4)\n",
      "Requirement already satisfied: scipy in c:\\users\\pavan_scottline\\anaconda3\\lib\\site-packages (from CatBoost) (1.6.2)\n",
      "Collecting graphviz\n",
      "  Using cached graphviz-0.19.1-py3-none-any.whl (46 kB)\n",
      "Requirement already satisfied: six in c:\\users\\pavan_scottline\\anaconda3\\lib\\site-packages (from CatBoost) (1.15.0)\n",
      "Requirement already satisfied: numpy>=1.16.0 in c:\\users\\pavan_scottline\\anaconda3\\lib\\site-packages (from CatBoost) (1.19.5)\n",
      "Requirement already satisfied: pytz>=2017.3 in c:\\users\\pavan_scottline\\anaconda3\\lib\\site-packages (from pandas>=0.24.0->CatBoost) (2021.1)\n",
      "Requirement already satisfied: python-dateutil>=2.7.3 in c:\\users\\pavan_scottline\\anaconda3\\lib\\site-packages (from pandas>=0.24.0->CatBoost) (2.8.1)\n",
      "Requirement already satisfied: cycler>=0.10 in c:\\users\\pavan_scottline\\anaconda3\\lib\\site-packages (from matplotlib->CatBoost) (0.10.0)\n",
      "Requirement already satisfied: pillow>=6.2.0 in c:\\users\\pavan_scottline\\anaconda3\\lib\\site-packages (from matplotlib->CatBoost) (8.2.0)\n",
      "Requirement already satisfied: kiwisolver>=1.0.1 in c:\\users\\pavan_scottline\\anaconda3\\lib\\site-packages (from matplotlib->CatBoost) (1.3.1)\n",
      "Requirement already satisfied: pyparsing!=2.0.4,!=2.1.2,!=2.1.6,>=2.0.3 in c:\\users\\pavan_scottline\\anaconda3\\lib\\site-packages (from matplotlib->CatBoost) (2.4.7)\n",
      "Collecting tenacity>=6.2.0\n",
      "  Using cached tenacity-8.0.1-py3-none-any.whl (24 kB)\n",
      "Installing collected packages: tenacity, plotly, graphviz, CatBoost\n",
      "Collecting catboost\n",
      "  Downloading catboost-1.0.4-cp38-none-win_amd64.whl (73.5 MB)\n",
      "Requirement already satisfied: six in c:\\users\\pavan_scottline\\anaconda3\\lib\\site-packages (from catboost) (1.15.0)\n",
      "Collecting plotly\n",
      "  Downloading plotly-5.5.0-py2.py3-none-any.whl (26.5 MB)\n",
      "Requirement already satisfied: numpy>=1.16.0 in c:\\users\\pavan_scottline\\anaconda3\\lib\\site-packages (from catboost) (1.19.5)\n",
      "Collecting graphviz\n",
      "  Downloading graphviz-0.19.1-py3-none-any.whl (46 kB)\n",
      "Requirement already satisfied: pandas>=0.24.0 in c:\\users\\pavan_scottline\\anaconda3\\lib\\site-packages (from catboost) (1.2.4)\n",
      "Requirement already satisfied: matplotlib in c:\\users\\pavan_scottline\\anaconda3\\lib\\site-packages (from catboost) (3.3.4)\n",
      "Requirement already satisfied: scipy in c:\\users\\pavan_scottline\\anaconda3\\lib\\site-packages (from catboost) (1.6.2)\n",
      "Requirement already satisfied: pytz>=2017.3 in c:\\users\\pavan_scottline\\anaconda3\\lib\\site-packages (from pandas>=0.24.0->catboost) (2021.1)\n",
      "Requirement already satisfied: python-dateutil>=2.7.3 in c:\\users\\pavan_scottline\\anaconda3\\lib\\site-packages (from pandas>=0.24.0->catboost) (2.8.1)\n",
      "Requirement already satisfied: pillow>=6.2.0 in c:\\users\\pavan_scottline\\anaconda3\\lib\\site-packages (from matplotlib->catboost) (8.2.0)\n",
      "Requirement already satisfied: kiwisolver>=1.0.1 in c:\\users\\pavan_scottline\\anaconda3\\lib\\site-packages (from matplotlib->catboost) (1.3.1)\n",
      "Requirement already satisfied: pyparsing!=2.0.4,!=2.1.2,!=2.1.6,>=2.0.3 in c:\\users\\pavan_scottline\\anaconda3\\lib\\site-packages (from matplotlib->catboost) (2.4.7)\n",
      "Requirement already satisfied: cycler>=0.10 in c:\\users\\pavan_scottline\\anaconda3\\lib\\site-packages (from matplotlib->catboost) (0.10.0)\n",
      "Collecting tenacity>=6.2.0\n",
      "  Downloading tenacity-8.0.1-py3-none-any.whl (24 kB)\n",
      "Installing collected packages: tenacity, plotly, graphviz, catboost\n",
      "Successfully installed catboost-1.0.4 graphviz-0.19.1 plotly-5.5.0 tenacity-8.0.1\n",
      "Collecting catboost\n",
      "  Using cached catboost-1.0.4-cp38-none-win_amd64.whl (73.5 MB)\n",
      "Requirement already satisfied: matplotlib in c:\\users\\pavan_scottline\\anaconda3\\lib\\site-packages (from catboost) (3.3.4)\n",
      "Collecting graphviz\n",
      "  Using cached graphviz-0.19.1-py3-none-any.whl (46 kB)\n",
      "Requirement already satisfied: six in c:\\users\\pavan_scottline\\anaconda3\\lib\\site-packages (from catboost) (1.15.0)\n",
      "Requirement already satisfied: pandas>=0.24.0 in c:\\users\\pavan_scottline\\anaconda3\\lib\\site-packages (from catboost) (1.2.4)\n",
      "Requirement already satisfied: scipy in c:\\users\\pavan_scottline\\anaconda3\\lib\\site-packages (from catboost) (1.6.2)\n",
      "Collecting plotly\n",
      "  Using cached plotly-5.5.0-py2.py3-none-any.whl (26.5 MB)\n",
      "Requirement already satisfied: numpy>=1.16.0 in c:\\users\\pavan_scottline\\anaconda3\\lib\\site-packages (from catboost) (1.19.5)\n",
      "Requirement already satisfied: pytz>=2017.3 in c:\\users\\pavan_scottline\\anaconda3\\lib\\site-packages (from pandas>=0.24.0->catboost) (2021.1)\n",
      "Requirement already satisfied: python-dateutil>=2.7.3 in c:\\users\\pavan_scottline\\anaconda3\\lib\\site-packages (from pandas>=0.24.0->catboost) (2.8.1)\n",
      "Requirement already satisfied: cycler>=0.10 in c:\\users\\pavan_scottline\\anaconda3\\lib\\site-packages (from matplotlib->catboost) (0.10.0)\n",
      "Requirement already satisfied: pillow>=6.2.0 in c:\\users\\pavan_scottline\\anaconda3\\lib\\site-packages (from matplotlib->catboost) (8.2.0)\n",
      "Requirement already satisfied: pyparsing!=2.0.4,!=2.1.2,!=2.1.6,>=2.0.3 in c:\\users\\pavan_scottline\\anaconda3\\lib\\site-packages (from matplotlib->catboost) (2.4.7)\n",
      "Requirement already satisfied: kiwisolver>=1.0.1 in c:\\users\\pavan_scottline\\anaconda3\\lib\\site-packages (from matplotlib->catboost) (1.3.1)\n",
      "Requirement already satisfied: tenacity>=6.2.0 in c:\\users\\pavan_scottline\\anaconda3\\lib\\site-packages (from plotly->catboost) (8.0.1)\n",
      "Installing collected packages: plotly, graphviz, catboost\n",
      "Successfully installed catboost-1.0.4 graphviz-0.19.1 plotly-5.5.0\n"
     ]
    }
   ],
   "source": [
    "!pip install catboost"
   ]
  },
  {
   "cell_type": "code",
   "execution_count": null,
   "id": "42f1309f",
   "metadata": {},
   "outputs": [],
   "source": []
  }
 ],
 "metadata": {
  "kernelspec": {
   "display_name": "Python 3",
   "language": "python",
   "name": "python3"
  },
  "language_info": {
   "codemirror_mode": {
    "name": "ipython",
    "version": 3
   },
   "file_extension": ".py",
   "mimetype": "text/x-python",
   "name": "python",
   "nbconvert_exporter": "python",
   "pygments_lexer": "ipython3",
   "version": "3.8.8"
  }
 },
 "nbformat": 4,
 "nbformat_minor": 5
}
